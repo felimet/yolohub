{
 "cells": [
  {
   "cell_type": "markdown",
   "id": "148f9a3c",
   "metadata": {},
   "source": [
    "# YOLOv11-seg training\n",
    "使用 Linux(WSL) 環境訓練，用以支援多 GPU 訓練 (nccl)\n",
    "\n",
    "YOLO 訓練資訊: https://docs.ultralytics.com/tasks/segment/#train"
   ]
  },
  {
   "cell_type": "code",
   "execution_count": 3,
   "id": "99ceae0b",
   "metadata": {},
   "outputs": [],
   "source": [
    "import comet_ml\n",
    "import torch\n",
    "from ultralytics import YOLO\n"
   ]
  },
  {
   "cell_type": "markdown",
   "id": "09b74ec0",
   "metadata": {},
   "source": [
    "## 檢查運算單元"
   ]
  },
  {
   "cell_type": "code",
   "execution_count": 4,
   "id": "7815b1b1",
   "metadata": {},
   "outputs": [
    {
     "name": "stdout",
     "output_type": "stream",
     "text": [
      "使用裝置: cuda\n",
      "GPU: NVIDIA TITAN V\n",
      "GPU 記憶體: 12.0 GB\n"
     ]
    }
   ],
   "source": [
    "check_device = \"cuda\" if torch.cuda.is_available() else \"cpu\"\n",
    "print(f\"使用裝置: {check_device}\")\n",
    "\n",
    "if torch.cuda.is_available():\n",
    "    print(f\"GPU: {torch.cuda.get_device_name()}\")\n",
    "    print(f\"GPU 記憶體: {torch.cuda.get_device_properties(0).total_memory / (1024**3):.1f} GB\")"
   ]
  },
  {
   "cell_type": "markdown",
   "id": "b5c6aed0",
   "metadata": {},
   "source": [
    "## 視覺化訓練追蹤平台\n",
    "\n",
    "[前往說明](https://docs.ultralytics.com/zh/modes/train/#augmentation-settings-and-hyperparameters:~:text=%E8%B5%84%E6%96%99%E9%83%A8%E5%88%86%E3%80%82-,%E8%AE%B0%E5%BD%95,-%E5%9C%A8%E8%AE%AD%E7%BB%83YOLO11)\n",
    "\n",
    "透過 YOLO11 與 TensorBoard 的整合獲得視覺化洞察力 [前往](https://docs.ultralytics.com/zh/integrations/tensorboard/)\n",
    "\n",
    "`Comet ml` 與 `ClearML` 擇一，不使用則 `pip uninstall clearml`"
   ]
  },
  {
   "cell_type": "markdown",
   "id": "f46dd88b",
   "metadata": {},
   "source": [
    "### Comet ml"
   ]
  },
  {
   "cell_type": "code",
   "execution_count": null,
   "id": "33dae2be",
   "metadata": {},
   "outputs": [
    {
     "name": "stderr",
     "output_type": "stream",
     "text": [
      "\u001b[1;38;5;39mCOMET INFO:\u001b[0m Valid Comet API Key saved in /home/isspmes/.comet.config (set COMET_CONFIG to change where it is saved).\n"
     ]
    }
   ],
   "source": [
    "## Comet ML 是一個允許數據科學家和開發者追蹤、比較、解釋和優化實驗與模型的平台。它提供即時指標、程式碼差異和超參數追蹤等功能。\n",
    "# https://docs.ultralytics.com/integrations/comet/#installation\n",
    "# pip install comet_ml\n",
    "\n",
    "# !export COMET_API_KEY=fxwf3W0gSNOYWuOd67xpC1LSR\n",
    "\n",
    "# import comet_ml\n",
    "# comet_ml.init() # set COMET_API_KEY\n",
    "# comet_ml.login(project_name=project_folder, \n",
    "#                experiment_name=model_name,\n",
    "#                workspace=\"felimet\", \n",
    "#                api_key=\"fxwf3W0gSNOYWuOd67xpC1LSR\")"
   ]
  },
  {
   "cell_type": "markdown",
   "id": "528d12a7",
   "metadata": {},
   "source": [
    "### ClearML"
   ]
  },
  {
   "cell_type": "code",
   "execution_count": null,
   "id": "03885812",
   "metadata": {},
   "outputs": [],
   "source": [
    "## ClearML 是一個開源平台，可自動追蹤實驗並協助高效共享資源。它旨在幫助團隊更有效地管理、執行和複製他們的機器學習工作。\n",
    "# https://clear.ml/docs/latest/docs/clearml_sdk/clearml_sdk_setup\n",
    "# pip install clearml\n",
    "# import clearml\n",
    "\n",
    "# clearml.browser_login()"
   ]
  },
  {
   "cell_type": "markdown",
   "id": "33d9b82a",
   "metadata": {},
   "source": [
    "### TensorBoard"
   ]
  },
  {
   "cell_type": "code",
   "execution_count": null,
   "id": "5178668c",
   "metadata": {},
   "outputs": [],
   "source": [
    "# TensorBoard 是一款視覺化工具包，適用於 TensorFlow。透過它，您可以將 TensorFlow 圖形視覺化，繪製有關圖形執行情況的量化指標，並顯示通過圖形的影像等附加資料。\n",
    "\n",
    "# pip install tensorboard\n",
    "# 在 Google Colab 中使用 TensorBoard：\n",
    "# load_ext tensorboard\n",
    "# tensorboard --logdir ultralytics/runs # replace with 'runs' directory\n",
    "\n",
    "# 要在本地使用 TensorBoard，請執行以下命令並在以下位置查看結果 http://localhost:6006/。\n",
    "\n",
    "## bash: \n",
    "# Enable TensorBoard logging\n",
    "# yolo settings tensorboard=True\n",
    "\n",
    "# 基本指令（讀取 ultralytics YOLO 訓練日誌）\n",
    "# tensorboard --logdir training_result_yolo11m-seg/yolo11m-seg_cow \n",
    "\n",
    "# 指定連接埠（預設為 6006）\n",
    "# tensorboard --logdir ultralytics/runs --port 8080\n",
    "\n",
    "# 指定主機位址（允許遠端存取）\n",
    "# tensorboard --logdir ultralytics/runs --host 0.0.0.0\n",
    "\n",
    "# 重新載入間隔設定（秒）\n",
    "# tensorboard --logdir ultralytics/runs --reload_interval 30\n",
    "\n",
    "# 比較多個實驗目錄\n",
    "# tensorboard --logdir name1:path1,name2:path2\n",
    "\n",
    "# 設定最大載入檔案數\n",
    "# tensorboard --logdir ultralytics/runs --max_reload_threads 4\n",
    "\n",
    "# 除錯模式\n",
    "# tensorboard --logdir ultralytics/runs --debugger_port 6064"
   ]
  },
  {
   "cell_type": "markdown",
   "id": "67ad3621",
   "metadata": {},
   "source": [
    "## 導入 YOLO 基礎模型\n",
    "自動創建資料 `base_model` 並下載 YOLO 基礎模型"
   ]
  },
  {
   "cell_type": "code",
   "execution_count": null,
   "id": "c1de749f",
   "metadata": {},
   "outputs": [
    {
     "name": "stderr",
     "output_type": "stream",
     "text": [
      "\u001b[1;38;5;39mCOMET INFO:\u001b[0m Valid Comet API Key saved in /home/isspmes/.comet.config (set COMET_CONFIG to change where it is saved).\n"
     ]
    }
   ],
   "source": [
    "# Load the YOLO base model\n",
    "base_model = \"yolo11m-seg\" # yolo11n-seg.pt yolo11s-seg.pt yolo11m-seg.pt yolo11l-seg.pt yolo11x-seg.pt\n",
    "model = YOLO(f\"../base_model/segmentation/{base_model}.pt\")\n",
    "\n",
    "project_folder = \"seg_training_result\"\n",
    "model_name = f\"{base_model}_cow\"\n",
    "\n",
    "# `Comet ml` 與 `ClearML` 擇一，不使用則 `pip uninstall clearml`\n",
    "# Initialize Comet ML for tracking experiments\n",
    "# import comet_ml\n",
    "# comet_ml.init() # set COMET_API_KEY\n",
    "comet_ml.login(project_name=project_folder, \n",
    "               experiment_name=model_name,\n",
    "               workspace=\"felimet\", \n",
    "               api_key=\"fxwf3W0gSNOYWuOd67xpC1LSR\")"
   ]
  },
  {
   "cell_type": "markdown",
   "id": "01a971d6",
   "metadata": {},
   "source": [
    "### 自訂 Comet ML 日誌\n",
    "[Comet ML 官方文件](https://www.comet.com/docs/v2/integrations/third-party-tools/yolov8/)\n",
    "\n",
    "`Comet ml` 與 `ClearML` 擇一，不使用則 `pip uninstall clearml`"
   ]
  },
  {
   "cell_type": "code",
   "execution_count": 6,
   "id": "515d4f6f",
   "metadata": {},
   "outputs": [],
   "source": [
    "import os\n",
    "\n",
    "# 控制 Comet ML 在實驗過程中記錄的圖像預測數量。預設情況下，Comet ML 會記錄來自驗證集的 100 個圖像預測。\n",
    "os.environ[\"COMET_MAX_IMAGE_PREDICTIONS\"] = \"200\"\n",
    "\n",
    "# 指定記錄批次圖像預測的頻率。記錄 COMET_EVAL_BATCH_LOGGING_INTERVAL 環境變數控制此頻率。預設值為 1。\n",
    "os.environ[\"COMET_EVAL_BATCH_LOGGING_INTERVAL\"] = \"1\"\n",
    "\n",
    "# 通過將 COMET_EVAL_LOG_CONFUSION_MATRIX 環境變數設置為 \"false\" 來停用混淆矩陣日誌。混淆矩陣只會在訓練完成後記錄一次。\n",
    "# os.environ[\"COMET_EVAL_LOG_CONFUSION_MATRIX\"] = \"false\"\n",
    "\n",
    "# 離線記錄訓練結果\n",
    "# os.environ['COMET_START_ONLINE'] = '0'  \n",
    "\n"
   ]
  },
  {
   "cell_type": "markdown",
   "id": "ec3cb411",
   "metadata": {},
   "source": [
    "### TensorBoard 訓練時在終端機執行"
   ]
  },
  {
   "cell_type": "code",
   "execution_count": null,
   "id": "35913be0",
   "metadata": {},
   "outputs": [],
   "source": [
    "# 訓練時在終端機執行\n",
    "# !tensorboard --logdir {project_fold}/{model_name} --port 7006 \n",
    "# !tensorboard --logdir training_result_yolo11m-seg/yolo11m-seg_cow --port 7006 "
   ]
  },
  {
   "cell_type": "markdown",
   "id": "1e5919cd",
   "metadata": {},
   "source": [
    "## 訓練 YOLOv11-seg \n",
    "訓練完成的模型與結果儲存於 `training_result_yolo11m_seg` 資料夾中"
   ]
  },
  {
   "cell_type": "code",
   "execution_count": null,
   "id": "5f7d349f",
   "metadata": {},
   "outputs": [
    {
     "name": "stdout",
     "output_type": "stream",
     "text": [
      "/bin/bash: line 1: kill: (338926) - No such process\n"
     ]
    }
   ],
   "source": [
    "# import torch\n",
    "# import gc\n",
    "\n",
    "# 清空CUDA快取\n",
    "# if torch.cuda.is_available():\n",
    "#     torch.cuda.empty_cache()\n",
    "#     torch.cuda.synchronize()\n",
    "\n",
    "# # 強制垃圾回收\n",
    "# gc.collect()\n",
    "\n",
    "# import os\n",
    "# os._exit(00)"
   ]
  },
  {
   "cell_type": "code",
   "execution_count": null,
   "id": "87cad4e0",
   "metadata": {},
   "outputs": [
    {
     "name": "stdout",
     "output_type": "stream",
     "text": [
      "New https://pypi.org/project/ultralytics/8.3.156 available 😃 Update with 'pip install -U ultralytics'\n",
      "Ultralytics 8.3.154 🚀 Python-3.12.11 torch-2.6.0+cu124 CUDA:0 (NVIDIA TITAN V, 12288MiB)\n",
      "                                                        CUDA:1 (NVIDIA TITAN V, 12287MiB)\n",
      "\u001b[34m\u001b[1mengine/trainer: \u001b[0magnostic_nms=False, amp=True, augment=False, auto_augment=randaugment, batch=32, bgr=0.0, box=7.5, cache=disk, cfg=None, classes=None, close_mosaic=10, cls=0.5, conf=None, copy_paste=0.3, copy_paste_mode=flip, cos_lr=True, cutmix=0.5, data=./dataset_seg/yolo_data_integrated/dataset.yaml, degrees=0.0, deterministic=True, device=0,1, dfl=1.5, dnn=False, dropout=0.15, dynamic=False, embed=None, epochs=100, erasing=0.4, exist_ok=True, fliplr=0.5, flipud=0.0, format=torchscript, fraction=1.0, freeze=None, half=False, hsv_h=0.015, hsv_s=0.7, hsv_v=0.4, imgsz=512, int8=False, iou=0.7, keras=False, kobj=1.0, line_width=None, lr0=0.005, lrf=0.0001, mask_ratio=4, max_det=300, mixup=0.5, mode=train, model=base_model/segment/yolo11m-seg.pt, momentum=0.937, mosaic=0.8, multi_scale=False, name=yolo11m-seg_cow, nbs=64, nms=False, opset=None, optimize=False, optimizer=AdamW, overlap_mask=True, patience=25, perspective=0.0, plots=True, pose=12.0, pretrained=True, profile=False, project=training_result_yolo11m-seg, rect=False, resume=False, retina_masks=False, save=True, save_conf=False, save_crop=False, save_dir=training_result_yolo11m-seg/yolo11m-seg_cow, save_frames=True, save_json=True, save_period=10, save_txt=False, scale=0.3, seed=42, shear=0.0, show=False, show_boxes=True, show_conf=True, show_labels=True, simplify=True, single_cls=False, source=None, split=val, stream_buffer=False, task=segment, time=None, tracker=botsort.yaml, translate=0.15, val=True, verbose=True, vid_stride=1, visualize=False, warmup_bias_lr=0.01, warmup_epochs=3, warmup_momentum=1e-05, weight_decay=0.0007, workers=8, workspace=None\n",
      "\n",
      "                   from  n    params  module                                       arguments                     \n",
      "  0                  -1  1      1856  ultralytics.nn.modules.conv.Conv             [3, 64, 3, 2]                 \n",
      "  1                  -1  1     73984  ultralytics.nn.modules.conv.Conv             [64, 128, 3, 2]               \n",
      "  2                  -1  1    111872  ultralytics.nn.modules.block.C3k2            [128, 256, 1, True, 0.25]     \n",
      "  3                  -1  1    590336  ultralytics.nn.modules.conv.Conv             [256, 256, 3, 2]              \n",
      "  4                  -1  1    444928  ultralytics.nn.modules.block.C3k2            [256, 512, 1, True, 0.25]     \n",
      "  5                  -1  1   2360320  ultralytics.nn.modules.conv.Conv             [512, 512, 3, 2]              \n",
      "  6                  -1  1   1380352  ultralytics.nn.modules.block.C3k2            [512, 512, 1, True]           \n",
      "  7                  -1  1   2360320  ultralytics.nn.modules.conv.Conv             [512, 512, 3, 2]              \n",
      "  8                  -1  1   1380352  ultralytics.nn.modules.block.C3k2            [512, 512, 1, True]           \n",
      "  9                  -1  1    656896  ultralytics.nn.modules.block.SPPF            [512, 512, 5]                 \n",
      " 10                  -1  1    990976  ultralytics.nn.modules.block.C2PSA           [512, 512, 1]                 \n",
      " 11                  -1  1         0  torch.nn.modules.upsampling.Upsample         [None, 2, 'nearest']          \n",
      " 12             [-1, 6]  1         0  ultralytics.nn.modules.conv.Concat           [1]                           \n",
      " 13                  -1  1   1642496  ultralytics.nn.modules.block.C3k2            [1024, 512, 1, True]          \n",
      " 14                  -1  1         0  torch.nn.modules.upsampling.Upsample         [None, 2, 'nearest']          \n",
      " 15             [-1, 4]  1         0  ultralytics.nn.modules.conv.Concat           [1]                           \n",
      " 16                  -1  1    542720  ultralytics.nn.modules.block.C3k2            [1024, 256, 1, True]          \n",
      " 17                  -1  1    590336  ultralytics.nn.modules.conv.Conv             [256, 256, 3, 2]              \n",
      " 18            [-1, 13]  1         0  ultralytics.nn.modules.conv.Concat           [1]                           \n",
      " 19                  -1  1   1511424  ultralytics.nn.modules.block.C3k2            [768, 512, 1, True]           \n",
      " 20                  -1  1   2360320  ultralytics.nn.modules.conv.Conv             [512, 512, 3, 2]              \n",
      " 21            [-1, 10]  1         0  ultralytics.nn.modules.conv.Concat           [1]                           \n",
      " 22                  -1  1   1642496  ultralytics.nn.modules.block.C3k2            [1024, 512, 1, True]          \n",
      " 23        [16, 19, 22]  1   3718003  ultralytics.nn.modules.head.Segment          [1, 32, 256, [256, 512, 512]] \n",
      "YOLO11m-seg summary: 253 layers, 22,359,987 parameters, 22,359,971 gradients, 123.6 GFLOPs\n",
      "\n",
      "Transferred 711/711 items from pretrained weights\n",
      "\u001b[34m\u001b[1mDDP:\u001b[0m debug command /home/isspmes/anaconda3/envs/yolo-seg-env/bin/python -m torch.distributed.run --nproc_per_node 2 --master_port 33745 /home/isspmes/.config/Ultralytics/DDP/_temp_0egvnxs_139888135910752.py\n",
      "Ultralytics 8.3.154 🚀 Python-3.12.11 torch-2.6.0+cu124 CUDA:0 (NVIDIA TITAN V, 12288MiB)\n",
      "                                                        CUDA:1 (NVIDIA TITAN V, 12287MiB)\n"
     ]
    },
    {
     "name": "stderr",
     "output_type": "stream",
     "text": [
      "\u001b[1;38;5;214mCOMET WARNING:\u001b[0m To get all data logged automatically, import comet_ml before the following modules: torch.\n",
      "\u001b[1;38;5;39mCOMET INFO:\u001b[0m Experiment is live on comet.com \u001b[38;5;39mhttps://www.comet.com/felimet/training-result-yolo11m-seg/66a507e71b8641f592599a07376e71c4\u001b[0m\n",
      "\n"
     ]
    },
    {
     "name": "stdout",
     "output_type": "stream",
     "text": [
      "\u001b[34m\u001b[1mTensorBoard: \u001b[0mStart with 'tensorboard --logdir training_result_yolo11m-seg/yolo11m-seg_cow', view at http://localhost:6006/\n",
      "Overriding model.yaml nc=80 with nc=1\n",
      "Transferred 705/711 items from pretrained weights\n",
      "Freezing layer 'model.23.dfl.conv.weight'\n",
      "\u001b[34m\u001b[1mAMP: \u001b[0mrunning Automatic Mixed Precision (AMP) checks...\n",
      "\u001b[34m\u001b[1mAMP: \u001b[0mchecks passed ✅\n",
      "\u001b[34m\u001b[1mtrain: \u001b[0mFast image access ✅ (ping: 0.0±0.0 ms, read: 317.6±86.7 MB/s, size: 197.8 KB)\n"
     ]
    },
    {
     "name": "stderr",
     "output_type": "stream",
     "text": [
      "\u001b[34m\u001b[1mtrain: \u001b[0mScanning /home/isspmes/YOLOHub/dataset_seg/yolo_data_integrated/labels/train.cache... 3856 images, 0 backgrounds, 0 corrupt: 100%|██████████| 3856/3856 [00:00<?, ?it/s]\n",
      "\u001b[34m\u001b[1mtrain: \u001b[0mCaching images (10.6GB Disk): 100%|██████████| 3856/3856 [00:00<00:00, 19048.78it/s]\n"
     ]
    },
    {
     "name": "stdout",
     "output_type": "stream",
     "text": [
      "\u001b[34m\u001b[1mval: \u001b[0mFast image access ✅ (ping: 1.2±0.7 ms, read: 146.8±99.5 MB/s, size: 175.3 KB)\n"
     ]
    },
    {
     "name": "stderr",
     "output_type": "stream",
     "text": [
      "\u001b[34m\u001b[1mval: \u001b[0mScanning /home/isspmes/YOLOHub/dataset_seg/yolo_data_integrated/labels/val.cache... 1101 images, 0 backgrounds, 0 corrupt: 100%|██████████| 1101/1101 [00:00<?, ?it/s]\n",
      "\u001b[34m\u001b[1mval: \u001b[0mCaching images (3.0GB Disk): 100%|██████████| 1101/1101 [00:00<00:00, 12764.47it/s]\n"
     ]
    },
    {
     "name": "stdout",
     "output_type": "stream",
     "text": [
      "Plotting labels to training_result_yolo11m-seg/yolo11m-seg_cow/labels.jpg... \n",
      "\u001b[34m\u001b[1moptimizer:\u001b[0m AdamW(lr=0.005, momentum=0.937) with parameter groups 115 weight(decay=0.0), 126 weight(decay=0.0007), 125 bias(decay=0.0)\n",
      "\u001b[34m\u001b[1mTensorBoard: \u001b[0mmodel graph visualization added ✅\n",
      "Image sizes 512 train, 512 val\n",
      "Using 16 dataloader workers\n",
      "Logging results to \u001b[1mtraining_result_yolo11m-seg/yolo11m-seg_cow\u001b[0m\n",
      "Starting training for 100 epochs...\n",
      "\n",
      "      Epoch    GPU_mem   box_loss   seg_loss   cls_loss   dfl_loss  Instances       Size\n"
     ]
    },
    {
     "name": "stderr",
     "output_type": "stream",
     "text": [
      "      1/100      6.47G     0.7722      1.796     0.7436      1.028         35        512: 100%|██████████| 121/121 [00:58<00:00,  2.09it/s]\n",
      "                 Class     Images  Instances      Box(P          R      mAP50  mAP50-95)     Mask(P          R      mAP50  mAP50-95): 100%|██████████| 35/35 [11:05<00:00, 19.00s/it]\n"
     ]
    },
    {
     "name": "stdout",
     "output_type": "stream",
     "text": [
      "                   all       1101       1858     0.0151      0.266     0.0133    0.00447    0.00704      0.638    0.00711     0.0011\n",
      "\n",
      "      Epoch    GPU_mem   box_loss   seg_loss   cls_loss   dfl_loss  Instances       Size\n"
     ]
    },
    {
     "name": "stderr",
     "output_type": "stream",
     "text": [
      "      2/100      6.46G     0.7153      1.646     0.5148      0.978         52        512: 100%|██████████| 121/121 [00:52<00:00,  2.31it/s]\n",
      "                 Class     Images  Instances      Box(P          R      mAP50  mAP50-95)     Mask(P          R      mAP50  mAP50-95): 100%|██████████| 35/35 [21:37<00:00, 37.09s/it]\n"
     ]
    },
    {
     "name": "stdout",
     "output_type": "stream",
     "text": [
      "                   all       1101       1858      0.916      0.984      0.981       0.85      0.915      0.982       0.98        0.7\n",
      "\n",
      "      Epoch    GPU_mem   box_loss   seg_loss   cls_loss   dfl_loss  Instances       Size\n"
     ]
    },
    {
     "name": "stderr",
     "output_type": "stream",
     "text": [
      "      3/100       6.4G     0.6367      1.473     0.4491     0.9442         38        512: 100%|██████████| 121/121 [00:51<00:00,  2.34it/s]\n",
      "                 Class     Images  Instances      Box(P          R      mAP50  mAP50-95)     Mask(P          R      mAP50  mAP50-95): 100%|██████████| 35/35 [22:53<00:00, 39.23s/it]\n"
     ]
    },
    {
     "name": "stdout",
     "output_type": "stream",
     "text": [
      "                   all       1101       1858      0.916      0.989      0.979      0.877      0.916      0.989      0.979      0.724\n",
      "\n",
      "      Epoch    GPU_mem   box_loss   seg_loss   cls_loss   dfl_loss  Instances       Size\n"
     ]
    },
    {
     "name": "stderr",
     "output_type": "stream",
     "text": [
      "      4/100       6.5G     0.6254      1.462     0.4501     0.9408         51        512: 100%|██████████| 121/121 [00:51<00:00,  2.36it/s]\n",
      "                 Class     Images  Instances      Box(P          R      mAP50  mAP50-95)     Mask(P          R      mAP50  mAP50-95): 100%|██████████| 35/35 [08:39<00:00, 14.85s/it]\n"
     ]
    },
    {
     "name": "stdout",
     "output_type": "stream",
     "text": [
      "                   all       1101       1858       0.97       0.98       0.99      0.899       0.97       0.98       0.99      0.723\n",
      "\n",
      "      Epoch    GPU_mem   box_loss   seg_loss   cls_loss   dfl_loss  Instances       Size\n"
     ]
    },
    {
     "name": "stderr",
     "output_type": "stream",
     "text": [
      "      5/100      6.55G     0.5786      1.382     0.4091     0.9215         47        512: 100%|██████████| 121/121 [00:52<00:00,  2.31it/s]  \n",
      "                 Class     Images  Instances      Box(P          R      mAP50  mAP50-95)     Mask(P          R      mAP50  mAP50-95): 100%|██████████| 35/35 [01:28<00:00,  2.52s/it]\n"
     ]
    },
    {
     "name": "stdout",
     "output_type": "stream",
     "text": [
      "                   all       1101       1858      0.971      0.994       0.99      0.934      0.971      0.994       0.99      0.776\n",
      "\n",
      "      Epoch    GPU_mem   box_loss   seg_loss   cls_loss   dfl_loss  Instances       Size\n"
     ]
    },
    {
     "name": "stderr",
     "output_type": "stream",
     "text": [
      "      6/100      6.66G      0.553      1.327     0.3818      0.911         46        512: 100%|██████████| 121/121 [00:49<00:00,  2.42it/s]\n",
      "                 Class     Images  Instances      Box(P          R      mAP50  mAP50-95)     Mask(P          R      mAP50  mAP50-95): 100%|██████████| 35/35 [05:13<00:00,  8.95s/it]\n"
     ]
    },
    {
     "name": "stdout",
     "output_type": "stream",
     "text": [
      "                   all       1101       1858       0.97      0.991       0.99       0.93       0.97      0.991       0.99      0.771\n",
      "\n",
      "      Epoch    GPU_mem   box_loss   seg_loss   cls_loss   dfl_loss  Instances       Size\n"
     ]
    },
    {
     "name": "stderr",
     "output_type": "stream",
     "text": [
      "      7/100      6.56G     0.5347        1.3     0.3721     0.9045         45        512: 100%|██████████| 121/121 [00:53<00:00,  2.28it/s]\n",
      "                 Class     Images  Instances      Box(P          R      mAP50  mAP50-95)     Mask(P          R      mAP50  mAP50-95): 100%|██████████| 35/35 [01:16<00:00,  2.19s/it]\n"
     ]
    },
    {
     "name": "stdout",
     "output_type": "stream",
     "text": [
      "                   all       1101       1858      0.972      0.994      0.993      0.949      0.972      0.994      0.993      0.788\n",
      "\n",
      "      Epoch    GPU_mem   box_loss   seg_loss   cls_loss   dfl_loss  Instances       Size\n"
     ]
    },
    {
     "name": "stderr",
     "output_type": "stream",
     "text": [
      "      8/100       6.6G       0.51      1.281     0.3578     0.8943         39        512: 100%|██████████| 121/121 [00:52<00:00,  2.29it/s]  \n",
      "                 Class     Images  Instances      Box(P          R      mAP50  mAP50-95)     Mask(P          R      mAP50  mAP50-95): 100%|██████████| 35/35 [01:02<00:00,  1.79s/it]\n"
     ]
    },
    {
     "name": "stdout",
     "output_type": "stream",
     "text": [
      "                   all       1101       1858      0.967      0.997      0.989      0.945      0.967      0.997      0.989      0.781\n",
      "\n",
      "      Epoch    GPU_mem   box_loss   seg_loss   cls_loss   dfl_loss  Instances       Size\n"
     ]
    },
    {
     "name": "stderr",
     "output_type": "stream",
     "text": [
      "      9/100      6.55G     0.4885      1.232     0.3384     0.8886         49        512: 100%|██████████| 121/121 [00:51<00:00,  2.35it/s]\n",
      "                 Class     Images  Instances      Box(P          R      mAP50  mAP50-95)     Mask(P          R      mAP50  mAP50-95): 100%|██████████| 35/35 [02:13<00:00,  3.81s/it]\n"
     ]
    },
    {
     "name": "stdout",
     "output_type": "stream",
     "text": [
      "                   all       1101       1858      0.972      0.995       0.99      0.951      0.972      0.995       0.99      0.782\n",
      "\n",
      "      Epoch    GPU_mem   box_loss   seg_loss   cls_loss   dfl_loss  Instances       Size\n"
     ]
    },
    {
     "name": "stderr",
     "output_type": "stream",
     "text": [
      "     10/100      6.62G     0.4791      1.198     0.3342     0.8847         50        512: 100%|██████████| 121/121 [00:50<00:00,  2.38it/s]\n",
      "                 Class     Images  Instances      Box(P          R      mAP50  mAP50-95)     Mask(P          R      mAP50  mAP50-95): 100%|██████████| 35/35 [00:55<00:00,  1.59s/it]\n"
     ]
    },
    {
     "name": "stdout",
     "output_type": "stream",
     "text": [
      "                   all       1101       1858      0.981       0.99      0.991      0.965      0.981       0.99      0.991      0.794\n",
      "\n",
      "      Epoch    GPU_mem   box_loss   seg_loss   cls_loss   dfl_loss  Instances       Size\n"
     ]
    },
    {
     "name": "stderr",
     "output_type": "stream",
     "text": [
      "     11/100      6.43G     0.4536      1.153     0.3208     0.8756         38        512: 100%|██████████| 121/121 [00:55<00:00,  2.18it/s]\n",
      "                 Class     Images  Instances      Box(P          R      mAP50  mAP50-95)     Mask(P          R      mAP50  mAP50-95): 100%|██████████| 35/35 [00:30<00:00,  1.16it/s]\n"
     ]
    },
    {
     "name": "stdout",
     "output_type": "stream",
     "text": [
      "                   all       1101       1858      0.976      0.996      0.993      0.954      0.976      0.996      0.993      0.799\n",
      "\n",
      "      Epoch    GPU_mem   box_loss   seg_loss   cls_loss   dfl_loss  Instances       Size\n"
     ]
    },
    {
     "name": "stderr",
     "output_type": "stream",
     "text": [
      "     12/100      6.56G     0.4579      1.161     0.3182     0.8814         47        512: 100%|██████████| 121/121 [00:52<00:00,  2.31it/s]\n",
      "                 Class     Images  Instances      Box(P          R      mAP50  mAP50-95)     Mask(P          R      mAP50  mAP50-95): 100%|██████████| 35/35 [03:18<00:00,  5.66s/it]\n"
     ]
    },
    {
     "name": "stdout",
     "output_type": "stream",
     "text": [
      "                   all       1101       1858      0.973      0.996      0.992      0.967      0.973      0.996      0.992      0.799\n",
      "\n",
      "      Epoch    GPU_mem   box_loss   seg_loss   cls_loss   dfl_loss  Instances       Size\n"
     ]
    },
    {
     "name": "stderr",
     "output_type": "stream",
     "text": [
      "     13/100      6.52G     0.4585      1.162     0.3126     0.8777         49        512: 100%|██████████| 121/121 [00:52<00:00,  2.32it/s]\n",
      "                 Class     Images  Instances      Box(P          R      mAP50  mAP50-95)     Mask(P          R      mAP50  mAP50-95): 100%|██████████| 35/35 [00:48<00:00,  1.39s/it]\n"
     ]
    },
    {
     "name": "stdout",
     "output_type": "stream",
     "text": [
      "                   all       1101       1858      0.977      0.994      0.993      0.959      0.977      0.994      0.993      0.807\n",
      "\n",
      "      Epoch    GPU_mem   box_loss   seg_loss   cls_loss   dfl_loss  Instances       Size\n"
     ]
    },
    {
     "name": "stderr",
     "output_type": "stream",
     "text": [
      "     14/100      6.63G     0.4374      1.117     0.3044     0.8716         28        512: 100%|██████████| 121/121 [00:51<00:00,  2.35it/s]\n",
      "                 Class     Images  Instances      Box(P          R      mAP50  mAP50-95)     Mask(P          R      mAP50  mAP50-95): 100%|██████████| 35/35 [00:45<00:00,  1.30s/it]\n"
     ]
    },
    {
     "name": "stdout",
     "output_type": "stream",
     "text": [
      "                   all       1101       1858      0.977      0.991      0.993      0.972      0.977      0.991      0.993      0.806\n",
      "\n",
      "      Epoch    GPU_mem   box_loss   seg_loss   cls_loss   dfl_loss  Instances       Size\n"
     ]
    },
    {
     "name": "stderr",
     "output_type": "stream",
     "text": [
      "     15/100      6.53G     0.4382      1.128     0.3069     0.8741         70        512: 100%|██████████| 121/121 [00:52<00:00,  2.31it/s]  \n",
      "                 Class     Images  Instances      Box(P          R      mAP50  mAP50-95)     Mask(P          R      mAP50  mAP50-95): 100%|██████████| 35/35 [00:33<00:00,  1.04it/s]\n"
     ]
    },
    {
     "name": "stdout",
     "output_type": "stream",
     "text": [
      "                   all       1101       1858      0.979      0.995      0.994      0.972      0.979      0.995      0.994      0.809\n",
      "\n",
      "      Epoch    GPU_mem   box_loss   seg_loss   cls_loss   dfl_loss  Instances       Size\n"
     ]
    },
    {
     "name": "stderr",
     "output_type": "stream",
     "text": [
      "     16/100      6.62G     0.4256      1.109     0.2952     0.8667         50        512: 100%|██████████| 121/121 [00:51<00:00,  2.35it/s]\n",
      "                 Class     Images  Instances      Box(P          R      mAP50  mAP50-95)     Mask(P          R      mAP50  mAP50-95): 100%|██████████| 35/35 [00:43<00:00,  1.24s/it]\n"
     ]
    },
    {
     "name": "stdout",
     "output_type": "stream",
     "text": [
      "                   all       1101       1858      0.979      0.996      0.993      0.971      0.979      0.996      0.993      0.812\n",
      "\n",
      "      Epoch    GPU_mem   box_loss   seg_loss   cls_loss   dfl_loss  Instances       Size\n"
     ]
    },
    {
     "name": "stderr",
     "output_type": "stream",
     "text": [
      "     17/100      6.57G     0.4256      1.115     0.2948     0.8661         39        512: 100%|██████████| 121/121 [00:52<00:00,  2.30it/s]  \n",
      "                 Class     Images  Instances      Box(P          R      mAP50  mAP50-95)     Mask(P          R      mAP50  mAP50-95): 100%|██████████| 35/35 [00:31<00:00,  1.11it/s]\n"
     ]
    },
    {
     "name": "stdout",
     "output_type": "stream",
     "text": [
      "                   all       1101       1858      0.982      0.994      0.992      0.971      0.982      0.994      0.992       0.81\n",
      "\n",
      "      Epoch    GPU_mem   box_loss   seg_loss   cls_loss   dfl_loss  Instances       Size\n"
     ]
    },
    {
     "name": "stderr",
     "output_type": "stream",
     "text": [
      "     18/100      6.62G     0.4271      1.102     0.2904     0.8696         40        512: 100%|██████████| 121/121 [00:51<00:00,  2.34it/s]\n",
      "                 Class     Images  Instances      Box(P          R      mAP50  mAP50-95)     Mask(P          R      mAP50  mAP50-95): 100%|██████████| 35/35 [00:32<00:00,  1.08it/s]\n"
     ]
    },
    {
     "name": "stdout",
     "output_type": "stream",
     "text": [
      "                   all       1101       1858      0.978      0.992      0.993      0.972      0.978      0.992      0.993      0.806\n",
      "\n",
      "      Epoch    GPU_mem   box_loss   seg_loss   cls_loss   dfl_loss  Instances       Size\n"
     ]
    },
    {
     "name": "stderr",
     "output_type": "stream",
     "text": [
      "     19/100      6.56G     0.4186      1.092     0.2836     0.8677         41        512: 100%|██████████| 121/121 [00:50<00:00,  2.39it/s]\n",
      "                 Class     Images  Instances      Box(P          R      mAP50  mAP50-95)     Mask(P          R      mAP50  mAP50-95): 100%|██████████| 35/35 [00:34<00:00,  1.03it/s]\n"
     ]
    },
    {
     "name": "stdout",
     "output_type": "stream",
     "text": [
      "                   all       1101       1858      0.978      0.998      0.993      0.976      0.978      0.998      0.993      0.812\n",
      "\n",
      "      Epoch    GPU_mem   box_loss   seg_loss   cls_loss   dfl_loss  Instances       Size\n"
     ]
    },
    {
     "name": "stderr",
     "output_type": "stream",
     "text": [
      "     20/100      6.61G     0.4045      1.046     0.2834     0.8584         63        512: 100%|██████████| 121/121 [00:51<00:00,  2.35it/s]\n",
      "                 Class     Images  Instances      Box(P          R      mAP50  mAP50-95)     Mask(P          R      mAP50  mAP50-95): 100%|██████████| 35/35 [01:00<00:00,  1.73s/it]\n"
     ]
    },
    {
     "name": "stdout",
     "output_type": "stream",
     "text": [
      "                   all       1101       1858       0.98      0.994      0.991      0.972       0.98      0.994      0.991      0.807\n",
      "\n",
      "      Epoch    GPU_mem   box_loss   seg_loss   cls_loss   dfl_loss  Instances       Size\n"
     ]
    },
    {
     "name": "stderr",
     "output_type": "stream",
     "text": [
      "     21/100      6.54G     0.4062      1.066       0.28     0.8606         49        512: 100%|██████████| 121/121 [00:51<00:00,  2.37it/s]\n",
      "                 Class     Images  Instances      Box(P          R      mAP50  mAP50-95)     Mask(P          R      mAP50  mAP50-95): 100%|██████████| 35/35 [00:31<00:00,  1.11it/s]\n"
     ]
    },
    {
     "name": "stdout",
     "output_type": "stream",
     "text": [
      "                   all       1101       1858      0.979      0.994      0.993      0.965      0.979      0.994      0.993      0.818\n",
      "\n",
      "      Epoch    GPU_mem   box_loss   seg_loss   cls_loss   dfl_loss  Instances       Size\n"
     ]
    },
    {
     "name": "stderr",
     "output_type": "stream",
     "text": [
      "     22/100      6.62G     0.4041      1.044     0.2781     0.8569         35        512: 100%|██████████| 121/121 [00:52<00:00,  2.32it/s]\n",
      "                 Class     Images  Instances      Box(P          R      mAP50  mAP50-95)     Mask(P          R      mAP50  mAP50-95): 100%|██████████| 35/35 [00:39<00:00,  1.14s/it]\n"
     ]
    },
    {
     "name": "stdout",
     "output_type": "stream",
     "text": [
      "                   all       1101       1858      0.984      0.994      0.994      0.975      0.984      0.994      0.994      0.805\n",
      "\n",
      "      Epoch    GPU_mem   box_loss   seg_loss   cls_loss   dfl_loss  Instances       Size\n"
     ]
    },
    {
     "name": "stderr",
     "output_type": "stream",
     "text": [
      "     23/100      6.53G     0.3985      1.033      0.272     0.8573         44        512: 100%|██████████| 121/121 [00:49<00:00,  2.46it/s]\n",
      "                 Class     Images  Instances      Box(P          R      mAP50  mAP50-95)     Mask(P          R      mAP50  mAP50-95): 100%|██████████| 35/35 [00:50<00:00,  1.45s/it]\n"
     ]
    },
    {
     "name": "stdout",
     "output_type": "stream",
     "text": [
      "                   all       1101       1858      0.975      0.996      0.994      0.978      0.975      0.996      0.994      0.811\n",
      "\n",
      "      Epoch    GPU_mem   box_loss   seg_loss   cls_loss   dfl_loss  Instances       Size\n"
     ]
    },
    {
     "name": "stderr",
     "output_type": "stream",
     "text": [
      "     24/100       6.6G     0.3883      1.024     0.2726     0.8549         52        512: 100%|██████████| 121/121 [00:52<00:00,  2.30it/s]\n",
      "                 Class     Images  Instances      Box(P          R      mAP50  mAP50-95)     Mask(P          R      mAP50  mAP50-95): 100%|██████████| 35/35 [00:25<00:00,  1.35it/s]\n"
     ]
    },
    {
     "name": "stdout",
     "output_type": "stream",
     "text": [
      "                   all       1101       1858      0.983      0.996      0.993      0.974      0.983      0.996      0.993       0.82\n",
      "\n",
      "      Epoch    GPU_mem   box_loss   seg_loss   cls_loss   dfl_loss  Instances       Size\n"
     ]
    },
    {
     "name": "stderr",
     "output_type": "stream",
     "text": [
      "     25/100      6.55G     0.3898      1.044     0.2668     0.8571         28        512: 100%|██████████| 121/121 [00:52<00:00,  2.32it/s]\n",
      "                 Class     Images  Instances      Box(P          R      mAP50  mAP50-95)     Mask(P          R      mAP50  mAP50-95): 100%|██████████| 35/35 [00:38<00:00,  1.10s/it]\n"
     ]
    },
    {
     "name": "stdout",
     "output_type": "stream",
     "text": [
      "                   all       1101       1858       0.98      0.997      0.994      0.981       0.98      0.997      0.994      0.818\n",
      "\n",
      "      Epoch    GPU_mem   box_loss   seg_loss   cls_loss   dfl_loss  Instances       Size\n"
     ]
    },
    {
     "name": "stderr",
     "output_type": "stream",
     "text": [
      "     26/100      6.62G      0.388      1.034     0.2664     0.8555         63        512: 100%|██████████| 121/121 [00:50<00:00,  2.41it/s]\n",
      "                 Class     Images  Instances      Box(P          R      mAP50  mAP50-95)     Mask(P          R      mAP50  mAP50-95): 100%|██████████| 35/35 [00:35<00:00,  1.01s/it]\n"
     ]
    },
    {
     "name": "stdout",
     "output_type": "stream",
     "text": [
      "                   all       1101       1858      0.986      0.996      0.994      0.979      0.986      0.996      0.994      0.817\n",
      "\n",
      "      Epoch    GPU_mem   box_loss   seg_loss   cls_loss   dfl_loss  Instances       Size\n"
     ]
    },
    {
     "name": "stderr",
     "output_type": "stream",
     "text": [
      "     27/100      6.58G     0.3861      1.018     0.2648      0.857         43        512: 100%|██████████| 121/121 [00:46<00:00,  2.61it/s]\n",
      "                 Class     Images  Instances      Box(P          R      mAP50  mAP50-95)     Mask(P          R      mAP50  mAP50-95): 100%|██████████| 35/35 [00:58<00:00,  1.67s/it]\n"
     ]
    },
    {
     "name": "stdout",
     "output_type": "stream",
     "text": [
      "                   all       1101       1858      0.988      0.991      0.994       0.98      0.988      0.991      0.994      0.814\n",
      "\n",
      "      Epoch    GPU_mem   box_loss   seg_loss   cls_loss   dfl_loss  Instances       Size\n"
     ]
    },
    {
     "name": "stderr",
     "output_type": "stream",
     "text": [
      "     28/100      6.58G     0.3782      1.007     0.2585     0.8508         41        512: 100%|██████████| 121/121 [00:49<00:00,  2.45it/s]  \n",
      "                 Class     Images  Instances      Box(P          R      mAP50  mAP50-95)     Mask(P          R      mAP50  mAP50-95): 100%|██████████| 35/35 [00:31<00:00,  1.13it/s]\n"
     ]
    },
    {
     "name": "stdout",
     "output_type": "stream",
     "text": [
      "                   all       1101       1858      0.983      0.995      0.992      0.977      0.983      0.995      0.992      0.814\n",
      "\n",
      "      Epoch    GPU_mem   box_loss   seg_loss   cls_loss   dfl_loss  Instances       Size\n"
     ]
    },
    {
     "name": "stderr",
     "output_type": "stream",
     "text": [
      "     29/100      6.53G     0.3726     0.9952     0.2618     0.8544         48        512: 100%|██████████| 121/121 [00:48<00:00,  2.47it/s]\n",
      "                 Class     Images  Instances      Box(P          R      mAP50  mAP50-95)     Mask(P          R      mAP50  mAP50-95): 100%|██████████| 35/35 [00:19<00:00,  1.77it/s]\n"
     ]
    },
    {
     "name": "stdout",
     "output_type": "stream",
     "text": [
      "                   all       1101       1858      0.974      0.995      0.992      0.977      0.974      0.995      0.992      0.818\n",
      "\n",
      "      Epoch    GPU_mem   box_loss   seg_loss   cls_loss   dfl_loss  Instances       Size\n"
     ]
    },
    {
     "name": "stderr",
     "output_type": "stream",
     "text": [
      "     30/100      6.64G     0.3711     0.9885     0.2596     0.8511         40        512: 100%|██████████| 121/121 [00:51<00:00,  2.34it/s]\n",
      "                 Class     Images  Instances      Box(P          R      mAP50  mAP50-95)     Mask(P          R      mAP50  mAP50-95): 100%|██████████| 35/35 [00:29<00:00,  1.19it/s]\n"
     ]
    },
    {
     "name": "stdout",
     "output_type": "stream",
     "text": [
      "                   all       1101       1858       0.98      0.995      0.994       0.98       0.98      0.995      0.994      0.826\n",
      "\n",
      "      Epoch    GPU_mem   box_loss   seg_loss   cls_loss   dfl_loss  Instances       Size\n"
     ]
    },
    {
     "name": "stderr",
     "output_type": "stream",
     "text": [
      "     31/100      6.53G     0.3688     0.9807      0.252     0.8505         48        512: 100%|██████████| 121/121 [00:51<00:00,  2.33it/s]  \n",
      "                 Class     Images  Instances      Box(P          R      mAP50  mAP50-95)     Mask(P          R      mAP50  mAP50-95): 100%|██████████| 35/35 [00:32<00:00,  1.09it/s]\n"
     ]
    },
    {
     "name": "stdout",
     "output_type": "stream",
     "text": [
      "                   all       1101       1858      0.986      0.992      0.994      0.982      0.986      0.992      0.994      0.822\n",
      "\n",
      "      Epoch    GPU_mem   box_loss   seg_loss   cls_loss   dfl_loss  Instances       Size\n"
     ]
    },
    {
     "name": "stderr",
     "output_type": "stream",
     "text": [
      "     32/100      6.64G     0.3655      0.973     0.2478     0.8485         47        512: 100%|██████████| 121/121 [00:53<00:00,  2.28it/s]\n",
      "                 Class     Images  Instances      Box(P          R      mAP50  mAP50-95)     Mask(P          R      mAP50  mAP50-95): 100%|██████████| 35/35 [00:30<00:00,  1.16it/s]\n"
     ]
    },
    {
     "name": "stdout",
     "output_type": "stream",
     "text": [
      "                   all       1101       1858      0.979      0.996      0.994       0.98      0.979      0.996      0.994      0.827\n",
      "\n",
      "      Epoch    GPU_mem   box_loss   seg_loss   cls_loss   dfl_loss  Instances       Size\n"
     ]
    },
    {
     "name": "stderr",
     "output_type": "stream",
     "text": [
      "     33/100      6.55G     0.3663      0.974     0.2512     0.8506         36        512: 100%|██████████| 121/121 [00:47<00:00,  2.55it/s]\n",
      "                 Class     Images  Instances      Box(P          R      mAP50  mAP50-95)     Mask(P          R      mAP50  mAP50-95): 100%|██████████| 35/35 [00:33<00:00,  1.05it/s]\n"
     ]
    },
    {
     "name": "stdout",
     "output_type": "stream",
     "text": [
      "                   all       1101       1858      0.984      0.996      0.994      0.982      0.984      0.996      0.994      0.831\n",
      "\n",
      "      Epoch    GPU_mem   box_loss   seg_loss   cls_loss   dfl_loss  Instances       Size\n"
     ]
    },
    {
     "name": "stderr",
     "output_type": "stream",
     "text": [
      "     34/100      6.62G     0.3603     0.9675     0.2476     0.8495         35        512: 100%|██████████| 121/121 [00:50<00:00,  2.42it/s]\n",
      "                 Class     Images  Instances      Box(P          R      mAP50  mAP50-95)     Mask(P          R      mAP50  mAP50-95): 100%|██████████| 35/35 [00:33<00:00,  1.06it/s]\n"
     ]
    },
    {
     "name": "stdout",
     "output_type": "stream",
     "text": [
      "                   all       1101       1858      0.984      0.995      0.994      0.978      0.984      0.995      0.994       0.82\n",
      "\n",
      "      Epoch    GPU_mem   box_loss   seg_loss   cls_loss   dfl_loss  Instances       Size\n"
     ]
    },
    {
     "name": "stderr",
     "output_type": "stream",
     "text": [
      "     35/100      6.57G     0.3623     0.9845     0.2458     0.8495         38        512: 100%|██████████| 121/121 [00:48<00:00,  2.50it/s]\n",
      "                 Class     Images  Instances      Box(P          R      mAP50  mAP50-95)     Mask(P          R      mAP50  mAP50-95):  11%|█▏        | 4/35 [00:03<00:25,  1.20it/s]"
     ]
    },
    {
     "name": "stdout",
     "output_type": "stream",
     "text": [
      "WARNING ⚠️ NMS time limit 3.600s exceeded\n"
     ]
    },
    {
     "name": "stderr",
     "output_type": "stream",
     "text": [
      "                 Class     Images  Instances      Box(P          R      mAP50  mAP50-95)     Mask(P          R      mAP50  mAP50-95): 100%|██████████| 35/35 [00:30<00:00,  1.15it/s]\n"
     ]
    },
    {
     "name": "stdout",
     "output_type": "stream",
     "text": [
      "                   all       1101       1858      0.986      0.992      0.994      0.983      0.986      0.992      0.994      0.827\n",
      "\n",
      "      Epoch    GPU_mem   box_loss   seg_loss   cls_loss   dfl_loss  Instances       Size\n"
     ]
    },
    {
     "name": "stderr",
     "output_type": "stream",
     "text": [
      "     36/100      6.64G     0.3494     0.9312     0.2373     0.8442         48        512: 100%|██████████| 121/121 [00:50<00:00,  2.40it/s] \n",
      "                 Class     Images  Instances      Box(P          R      mAP50  mAP50-95)     Mask(P          R      mAP50  mAP50-95): 100%|██████████| 35/35 [00:30<00:00,  1.13it/s]\n"
     ]
    },
    {
     "name": "stdout",
     "output_type": "stream",
     "text": [
      "                   all       1101       1858      0.987      0.995      0.994      0.984      0.987      0.995      0.994      0.827\n",
      "\n",
      "      Epoch    GPU_mem   box_loss   seg_loss   cls_loss   dfl_loss  Instances       Size\n"
     ]
    },
    {
     "name": "stderr",
     "output_type": "stream",
     "text": [
      "     37/100      6.55G     0.3533     0.9654     0.2429     0.8467         61        512: 100%|██████████| 121/121 [00:48<00:00,  2.50it/s]\n",
      "                 Class     Images  Instances      Box(P          R      mAP50  mAP50-95)     Mask(P          R      mAP50  mAP50-95): 100%|██████████| 35/35 [00:34<00:00,  1.01it/s]\n"
     ]
    },
    {
     "name": "stdout",
     "output_type": "stream",
     "text": [
      "                   all       1101       1858       0.98      0.997      0.994      0.982       0.98      0.997      0.994      0.824\n",
      "\n",
      "      Epoch    GPU_mem   box_loss   seg_loss   cls_loss   dfl_loss  Instances       Size\n"
     ]
    },
    {
     "name": "stderr",
     "output_type": "stream",
     "text": [
      "     38/100      6.61G      0.352     0.9501     0.2441     0.8477         47        512: 100%|██████████| 121/121 [00:49<00:00,  2.44it/s]\n",
      "                 Class     Images  Instances      Box(P          R      mAP50  mAP50-95)     Mask(P          R      mAP50  mAP50-95): 100%|██████████| 35/35 [00:44<00:00,  1.27s/it]\n"
     ]
    },
    {
     "name": "stdout",
     "output_type": "stream",
     "text": [
      "                   all       1101       1858      0.988      0.996      0.994      0.982      0.988      0.996      0.994      0.825\n",
      "\n",
      "      Epoch    GPU_mem   box_loss   seg_loss   cls_loss   dfl_loss  Instances       Size\n"
     ]
    },
    {
     "name": "stderr",
     "output_type": "stream",
     "text": [
      "     39/100      6.54G     0.3502     0.9538     0.2451     0.8465         44        512: 100%|██████████| 121/121 [00:47<00:00,  2.54it/s]\n",
      "                 Class     Images  Instances      Box(P          R      mAP50  mAP50-95)     Mask(P          R      mAP50  mAP50-95): 100%|██████████| 35/35 [00:33<00:00,  1.06it/s]\n"
     ]
    },
    {
     "name": "stdout",
     "output_type": "stream",
     "text": [
      "                   all       1101       1858      0.981      0.996      0.993      0.983      0.981      0.996      0.993      0.827\n",
      "\n",
      "      Epoch    GPU_mem   box_loss   seg_loss   cls_loss   dfl_loss  Instances       Size\n"
     ]
    },
    {
     "name": "stderr",
     "output_type": "stream",
     "text": [
      "     40/100      6.62G     0.3399     0.9282     0.2348     0.8415         51        512: 100%|██████████| 121/121 [00:48<00:00,  2.51it/s]\n",
      "                 Class     Images  Instances      Box(P          R      mAP50  mAP50-95)     Mask(P          R      mAP50  mAP50-95): 100%|██████████| 35/35 [00:31<00:00,  1.11it/s]\n"
     ]
    },
    {
     "name": "stdout",
     "output_type": "stream",
     "text": [
      "                   all       1101       1858      0.985      0.996      0.994      0.985      0.985      0.996      0.994      0.825\n",
      "\n",
      "      Epoch    GPU_mem   box_loss   seg_loss   cls_loss   dfl_loss  Instances       Size\n"
     ]
    },
    {
     "name": "stderr",
     "output_type": "stream",
     "text": [
      "     41/100      6.57G     0.3433     0.9438     0.2392     0.8428         38        512: 100%|██████████| 121/121 [00:48<00:00,  2.49it/s]\n",
      "                 Class     Images  Instances      Box(P          R      mAP50  mAP50-95)     Mask(P          R      mAP50  mAP50-95): 100%|██████████| 35/35 [00:36<00:00,  1.05s/it]\n"
     ]
    },
    {
     "name": "stdout",
     "output_type": "stream",
     "text": [
      "                   all       1101       1858      0.987      0.991      0.994      0.984      0.987      0.991      0.994      0.827\n",
      "\n",
      "      Epoch    GPU_mem   box_loss   seg_loss   cls_loss   dfl_loss  Instances       Size\n"
     ]
    },
    {
     "name": "stderr",
     "output_type": "stream",
     "text": [
      "     42/100      6.62G     0.3382     0.9313     0.2344     0.8421         31        512: 100%|██████████| 121/121 [00:50<00:00,  2.38it/s]\n",
      "                 Class     Images  Instances      Box(P          R      mAP50  mAP50-95)     Mask(P          R      mAP50  mAP50-95): 100%|██████████| 35/35 [00:33<00:00,  1.06it/s]\n"
     ]
    },
    {
     "name": "stdout",
     "output_type": "stream",
     "text": [
      "                   all       1101       1858      0.987       0.99      0.994      0.984      0.987       0.99      0.994       0.83\n",
      "\n",
      "      Epoch    GPU_mem   box_loss   seg_loss   cls_loss   dfl_loss  Instances       Size\n"
     ]
    },
    {
     "name": "stderr",
     "output_type": "stream",
     "text": [
      "     43/100      6.53G     0.3431      0.944     0.2369     0.8464         45        512: 100%|██████████| 121/121 [00:50<00:00,  2.39it/s]\n",
      "                 Class     Images  Instances      Box(P          R      mAP50  mAP50-95)     Mask(P          R      mAP50  mAP50-95): 100%|██████████| 35/35 [00:32<00:00,  1.09it/s]\n"
     ]
    },
    {
     "name": "stdout",
     "output_type": "stream",
     "text": [
      "                   all       1101       1858      0.987      0.997      0.994      0.984      0.987      0.997      0.994      0.832\n",
      "\n",
      "      Epoch    GPU_mem   box_loss   seg_loss   cls_loss   dfl_loss  Instances       Size\n"
     ]
    },
    {
     "name": "stderr",
     "output_type": "stream",
     "text": [
      "     44/100      6.61G     0.3332     0.9328     0.2291     0.8425         38        512: 100%|██████████| 121/121 [00:51<00:00,  2.34it/s] \n",
      "                 Class     Images  Instances      Box(P          R      mAP50  mAP50-95)     Mask(P          R      mAP50  mAP50-95): 100%|██████████| 35/35 [00:28<00:00,  1.23it/s]\n"
     ]
    },
    {
     "name": "stdout",
     "output_type": "stream",
     "text": [
      "                   all       1101       1858      0.985      0.995      0.994      0.984      0.985      0.995      0.994      0.836\n",
      "\n",
      "      Epoch    GPU_mem   box_loss   seg_loss   cls_loss   dfl_loss  Instances       Size\n"
     ]
    },
    {
     "name": "stderr",
     "output_type": "stream",
     "text": [
      "     45/100      6.55G     0.3321     0.8914      0.225     0.8388         53        512: 100%|██████████| 121/121 [00:52<00:00,  2.31it/s]\n",
      "                 Class     Images  Instances      Box(P          R      mAP50  mAP50-95)     Mask(P          R      mAP50  mAP50-95): 100%|██████████| 35/35 [00:29<00:00,  1.18it/s]\n"
     ]
    },
    {
     "name": "stdout",
     "output_type": "stream",
     "text": [
      "                   all       1101       1858      0.984      0.994      0.993      0.984      0.984      0.994      0.993       0.83\n",
      "\n",
      "      Epoch    GPU_mem   box_loss   seg_loss   cls_loss   dfl_loss  Instances       Size\n"
     ]
    },
    {
     "name": "stderr",
     "output_type": "stream",
     "text": [
      "     46/100       6.6G     0.3335     0.9241     0.2288     0.8371         32        512: 100%|██████████| 121/121 [00:49<00:00,  2.44it/s]\n",
      "                 Class     Images  Instances      Box(P          R      mAP50  mAP50-95)     Mask(P          R      mAP50  mAP50-95): 100%|██████████| 35/35 [00:33<00:00,  1.03it/s]\n"
     ]
    },
    {
     "name": "stdout",
     "output_type": "stream",
     "text": [
      "                   all       1101       1858      0.986      0.997      0.994      0.985      0.986      0.997      0.994      0.832\n",
      "\n",
      "      Epoch    GPU_mem   box_loss   seg_loss   cls_loss   dfl_loss  Instances       Size\n"
     ]
    },
    {
     "name": "stderr",
     "output_type": "stream",
     "text": [
      "     47/100      6.53G     0.3363     0.9198     0.2266     0.8406         56        512: 100%|██████████| 121/121 [00:52<00:00,  2.31it/s]\n",
      "                 Class     Images  Instances      Box(P          R      mAP50  mAP50-95)     Mask(P          R      mAP50  mAP50-95): 100%|██████████| 35/35 [00:30<00:00,  1.16it/s]\n"
     ]
    },
    {
     "name": "stdout",
     "output_type": "stream",
     "text": [
      "                   all       1101       1858      0.982      0.997      0.994      0.985      0.982      0.997      0.994      0.829\n",
      "\n",
      "      Epoch    GPU_mem   box_loss   seg_loss   cls_loss   dfl_loss  Instances       Size\n"
     ]
    },
    {
     "name": "stderr",
     "output_type": "stream",
     "text": [
      "     48/100      6.58G     0.3317     0.9129     0.2278     0.8427         42        512: 100%|██████████| 121/121 [00:49<00:00,  2.45it/s]\n",
      "                 Class     Images  Instances      Box(P          R      mAP50  mAP50-95)     Mask(P          R      mAP50  mAP50-95): 100%|██████████| 35/35 [00:29<00:00,  1.18it/s]\n"
     ]
    },
    {
     "name": "stdout",
     "output_type": "stream",
     "text": [
      "                   all       1101       1858      0.985      0.995      0.994      0.985      0.985      0.995      0.994      0.831\n",
      "\n",
      "      Epoch    GPU_mem   box_loss   seg_loss   cls_loss   dfl_loss  Instances       Size\n"
     ]
    },
    {
     "name": "stderr",
     "output_type": "stream",
     "text": [
      "     49/100      6.54G     0.3207     0.8886     0.2172      0.838         38        512: 100%|██████████| 121/121 [00:52<00:00,  2.29it/s]  \n",
      "                 Class     Images  Instances      Box(P          R      mAP50  mAP50-95)     Mask(P          R      mAP50  mAP50-95): 100%|██████████| 35/35 [00:28<00:00,  1.24it/s]\n"
     ]
    },
    {
     "name": "stdout",
     "output_type": "stream",
     "text": [
      "                   all       1101       1858       0.99      0.994      0.994      0.987       0.99      0.994      0.994      0.829\n",
      "\n",
      "      Epoch    GPU_mem   box_loss   seg_loss   cls_loss   dfl_loss  Instances       Size\n"
     ]
    },
    {
     "name": "stderr",
     "output_type": "stream",
     "text": [
      "     50/100      6.62G     0.3298     0.9192     0.2224     0.8383         36        512: 100%|██████████| 121/121 [00:49<00:00,  2.44it/s]\n",
      "                 Class     Images  Instances      Box(P          R      mAP50  mAP50-95)     Mask(P          R      mAP50  mAP50-95): 100%|██████████| 35/35 [00:33<00:00,  1.05it/s]\n"
     ]
    },
    {
     "name": "stdout",
     "output_type": "stream",
     "text": [
      "                   all       1101       1858      0.988      0.997      0.995      0.985      0.988      0.997      0.995      0.831\n",
      "\n",
      "      Epoch    GPU_mem   box_loss   seg_loss   cls_loss   dfl_loss  Instances       Size\n"
     ]
    },
    {
     "name": "stderr",
     "output_type": "stream",
     "text": [
      "     51/100      6.56G      0.321     0.8841     0.2168     0.8383         50        512: 100%|██████████| 121/121 [00:52<00:00,  2.29it/s]  \n",
      "                 Class     Images  Instances      Box(P          R      mAP50  mAP50-95)     Mask(P          R      mAP50  mAP50-95): 100%|██████████| 35/35 [00:28<00:00,  1.21it/s]\n"
     ]
    },
    {
     "name": "stdout",
     "output_type": "stream",
     "text": [
      "                   all       1101       1858      0.989      0.995      0.995      0.987      0.989      0.995      0.995      0.832\n",
      "\n",
      "      Epoch    GPU_mem   box_loss   seg_loss   cls_loss   dfl_loss  Instances       Size\n"
     ]
    },
    {
     "name": "stderr",
     "output_type": "stream",
     "text": [
      "     52/100      6.65G     0.3191     0.8731     0.2155     0.8393         43        512: 100%|██████████| 121/121 [00:50<00:00,  2.41it/s]\n",
      "                 Class     Images  Instances      Box(P          R      mAP50  mAP50-95)     Mask(P          R      mAP50  mAP50-95): 100%|██████████| 35/35 [00:27<00:00,  1.27it/s]\n"
     ]
    },
    {
     "name": "stdout",
     "output_type": "stream",
     "text": [
      "                   all       1101       1858      0.989      0.997      0.995      0.988      0.989      0.997      0.995      0.831\n",
      "\n",
      "      Epoch    GPU_mem   box_loss   seg_loss   cls_loss   dfl_loss  Instances       Size\n"
     ]
    },
    {
     "name": "stderr",
     "output_type": "stream",
     "text": [
      "     53/100      6.57G     0.3152     0.8796     0.2091     0.8339         59        512: 100%|██████████| 121/121 [00:53<00:00,  2.25it/s]\n",
      "                 Class     Images  Instances      Box(P          R      mAP50  mAP50-95)     Mask(P          R      mAP50  mAP50-95): 100%|██████████| 35/35 [00:27<00:00,  1.25it/s]\n"
     ]
    },
    {
     "name": "stdout",
     "output_type": "stream",
     "text": [
      "                   all       1101       1858      0.987      0.994      0.995      0.987      0.987      0.994      0.995      0.834\n",
      "\n",
      "      Epoch    GPU_mem   box_loss   seg_loss   cls_loss   dfl_loss  Instances       Size\n"
     ]
    },
    {
     "name": "stderr",
     "output_type": "stream",
     "text": [
      "     54/100       6.6G     0.3122     0.8697     0.2147     0.8345         41        512: 100%|██████████| 121/121 [00:49<00:00,  2.43it/s]\n",
      "                 Class     Images  Instances      Box(P          R      mAP50  mAP50-95)     Mask(P          R      mAP50  mAP50-95): 100%|██████████| 35/35 [00:28<00:00,  1.23it/s]\n"
     ]
    },
    {
     "name": "stdout",
     "output_type": "stream",
     "text": [
      "                   all       1101       1858      0.988      0.997      0.994      0.987      0.988      0.997      0.994      0.838\n",
      "\n",
      "      Epoch    GPU_mem   box_loss   seg_loss   cls_loss   dfl_loss  Instances       Size\n"
     ]
    },
    {
     "name": "stderr",
     "output_type": "stream",
     "text": [
      "     55/100      6.53G     0.3123     0.8835     0.2129     0.8315         48        512: 100%|██████████| 121/121 [00:52<00:00,  2.31it/s]\n",
      "                 Class     Images  Instances      Box(P          R      mAP50  mAP50-95)     Mask(P          R      mAP50  mAP50-95): 100%|██████████| 35/35 [00:31<00:00,  1.10it/s]\n"
     ]
    },
    {
     "name": "stdout",
     "output_type": "stream",
     "text": [
      "                   all       1101       1858      0.986      0.996      0.995      0.987      0.986      0.996      0.995      0.826\n",
      "\n",
      "      Epoch    GPU_mem   box_loss   seg_loss   cls_loss   dfl_loss  Instances       Size\n"
     ]
    },
    {
     "name": "stderr",
     "output_type": "stream",
     "text": [
      "     56/100      6.61G     0.3121     0.8713     0.2112     0.8342         39        512: 100%|██████████| 121/121 [00:50<00:00,  2.41it/s]\n",
      "                 Class     Images  Instances      Box(P          R      mAP50  mAP50-95)     Mask(P          R      mAP50  mAP50-95): 100%|██████████| 35/35 [00:29<00:00,  1.20it/s]\n"
     ]
    },
    {
     "name": "stdout",
     "output_type": "stream",
     "text": [
      "                   all       1101       1858      0.987      0.996      0.995      0.988      0.987      0.996      0.995      0.837\n",
      "\n",
      "      Epoch    GPU_mem   box_loss   seg_loss   cls_loss   dfl_loss  Instances       Size\n"
     ]
    },
    {
     "name": "stderr",
     "output_type": "stream",
     "text": [
      "     57/100      6.59G     0.3152     0.8732     0.2133     0.8347         53        512: 100%|██████████| 121/121 [00:52<00:00,  2.32it/s]\n",
      "                 Class     Images  Instances      Box(P          R      mAP50  mAP50-95)     Mask(P          R      mAP50  mAP50-95): 100%|██████████| 35/35 [00:28<00:00,  1.24it/s]\n"
     ]
    },
    {
     "name": "stdout",
     "output_type": "stream",
     "text": [
      "                   all       1101       1858      0.988      0.997      0.994      0.987      0.988      0.997      0.994      0.834\n",
      "\n",
      "      Epoch    GPU_mem   box_loss   seg_loss   cls_loss   dfl_loss  Instances       Size\n"
     ]
    },
    {
     "name": "stderr",
     "output_type": "stream",
     "text": [
      "     58/100      6.59G     0.3039     0.8579     0.2051     0.8296         46        512: 100%|██████████| 121/121 [00:50<00:00,  2.42it/s]\n",
      "                 Class     Images  Instances      Box(P          R      mAP50  mAP50-95)     Mask(P          R      mAP50  mAP50-95): 100%|██████████| 35/35 [00:28<00:00,  1.22it/s]\n"
     ]
    },
    {
     "name": "stdout",
     "output_type": "stream",
     "text": [
      "                   all       1101       1858      0.989      0.996      0.995      0.988      0.989      0.996      0.995      0.831\n",
      "\n",
      "      Epoch    GPU_mem   box_loss   seg_loss   cls_loss   dfl_loss  Instances       Size\n"
     ]
    },
    {
     "name": "stderr",
     "output_type": "stream",
     "text": [
      "     59/100      6.56G     0.3071      0.862      0.207     0.8345         27        512: 100%|██████████| 121/121 [00:53<00:00,  2.27it/s]  \n",
      "                 Class     Images  Instances      Box(P          R      mAP50  mAP50-95)     Mask(P          R      mAP50  mAP50-95): 100%|██████████| 35/35 [00:26<00:00,  1.31it/s]\n"
     ]
    },
    {
     "name": "stdout",
     "output_type": "stream",
     "text": [
      "                   all       1101       1858      0.988      0.997      0.995      0.987      0.988      0.997      0.995      0.835\n",
      "\n",
      "      Epoch    GPU_mem   box_loss   seg_loss   cls_loss   dfl_loss  Instances       Size\n"
     ]
    },
    {
     "name": "stderr",
     "output_type": "stream",
     "text": [
      "     60/100       6.6G     0.2997     0.8555     0.2023     0.8311         47        512: 100%|██████████| 121/121 [00:50<00:00,  2.40it/s]\n",
      "                 Class     Images  Instances      Box(P          R      mAP50  mAP50-95)     Mask(P          R      mAP50  mAP50-95): 100%|██████████| 35/35 [00:27<00:00,  1.26it/s]\n"
     ]
    },
    {
     "name": "stdout",
     "output_type": "stream",
     "text": [
      "                   all       1101       1858      0.986      0.996      0.994      0.988      0.986      0.996      0.994      0.839\n",
      "\n",
      "      Epoch    GPU_mem   box_loss   seg_loss   cls_loss   dfl_loss  Instances       Size\n"
     ]
    },
    {
     "name": "stderr",
     "output_type": "stream",
     "text": [
      "     61/100      6.52G     0.3042     0.8433     0.2055     0.8302         42        512: 100%|██████████| 121/121 [00:52<00:00,  2.31it/s]\n",
      "                 Class     Images  Instances      Box(P          R      mAP50  mAP50-95)     Mask(P          R      mAP50  mAP50-95): 100%|██████████| 35/35 [00:27<00:00,  1.25it/s]\n"
     ]
    },
    {
     "name": "stdout",
     "output_type": "stream",
     "text": [
      "                   all       1101       1858      0.988      0.995      0.994      0.988      0.988      0.995      0.994      0.833\n",
      "\n",
      "      Epoch    GPU_mem   box_loss   seg_loss   cls_loss   dfl_loss  Instances       Size\n"
     ]
    },
    {
     "name": "stderr",
     "output_type": "stream",
     "text": [
      "     62/100      6.59G     0.2965     0.8557     0.1991     0.8296         52        512: 100%|██████████| 121/121 [00:51<00:00,  2.34it/s]\n",
      "                 Class     Images  Instances      Box(P          R      mAP50  mAP50-95)     Mask(P          R      mAP50  mAP50-95): 100%|██████████| 35/35 [00:28<00:00,  1.21it/s]\n"
     ]
    },
    {
     "name": "stdout",
     "output_type": "stream",
     "text": [
      "                   all       1101       1858      0.989      0.996      0.995      0.987      0.989      0.996      0.995      0.839\n",
      "\n",
      "      Epoch    GPU_mem   box_loss   seg_loss   cls_loss   dfl_loss  Instances       Size\n"
     ]
    },
    {
     "name": "stderr",
     "output_type": "stream",
     "text": [
      "     63/100      6.57G     0.3067     0.8523      0.201      0.835         55        512: 100%|██████████| 121/121 [00:54<00:00,  2.24it/s]\n",
      "                 Class     Images  Instances      Box(P          R      mAP50  mAP50-95)     Mask(P          R      mAP50  mAP50-95): 100%|██████████| 35/35 [00:28<00:00,  1.23it/s]\n"
     ]
    },
    {
     "name": "stdout",
     "output_type": "stream",
     "text": [
      "                   all       1101       1858      0.989      0.996      0.995      0.987      0.989      0.996      0.995      0.838\n",
      "\n",
      "      Epoch    GPU_mem   box_loss   seg_loss   cls_loss   dfl_loss  Instances       Size\n"
     ]
    },
    {
     "name": "stderr",
     "output_type": "stream",
     "text": [
      "     64/100      6.61G     0.3011     0.8528     0.1953     0.8311         45        512: 100%|██████████| 121/121 [00:50<00:00,  2.42it/s]\n",
      "                 Class     Images  Instances      Box(P          R      mAP50  mAP50-95)     Mask(P          R      mAP50  mAP50-95):  14%|█▍        | 5/35 [00:04<00:23,  1.26it/s]"
     ]
    },
    {
     "name": "stdout",
     "output_type": "stream",
     "text": [
      "WARNING ⚠️ NMS time limit 3.600s exceeded\n"
     ]
    },
    {
     "name": "stderr",
     "output_type": "stream",
     "text": [
      "                 Class     Images  Instances      Box(P          R      mAP50  mAP50-95)     Mask(P          R      mAP50  mAP50-95): 100%|██████████| 35/35 [00:27<00:00,  1.27it/s]\n"
     ]
    },
    {
     "name": "stdout",
     "output_type": "stream",
     "text": [
      "                   all       1101       1858      0.991      0.972      0.984      0.976      0.991      0.972      0.984      0.831\n",
      "\n",
      "      Epoch    GPU_mem   box_loss   seg_loss   cls_loss   dfl_loss  Instances       Size\n"
     ]
    },
    {
     "name": "stderr",
     "output_type": "stream",
     "text": [
      "     65/100      6.54G     0.3009      0.858     0.1989     0.8345         39        512: 100%|██████████| 121/121 [00:53<00:00,  2.28it/s]\n",
      "                 Class     Images  Instances      Box(P          R      mAP50  mAP50-95)     Mask(P          R      mAP50  mAP50-95): 100%|██████████| 35/35 [00:28<00:00,  1.23it/s]\n"
     ]
    },
    {
     "name": "stdout",
     "output_type": "stream",
     "text": [
      "                   all       1101       1858      0.991      0.994      0.994      0.988      0.991      0.994      0.994       0.84\n",
      "\n",
      "      Epoch    GPU_mem   box_loss   seg_loss   cls_loss   dfl_loss  Instances       Size\n"
     ]
    },
    {
     "name": "stderr",
     "output_type": "stream",
     "text": [
      "     66/100      6.64G     0.2875     0.8088     0.1912     0.8289         55        512: 100%|██████████| 121/121 [00:50<00:00,  2.41it/s]\n",
      "                 Class     Images  Instances      Box(P          R      mAP50  mAP50-95)     Mask(P          R      mAP50  mAP50-95): 100%|██████████| 35/35 [00:27<00:00,  1.26it/s]\n"
     ]
    },
    {
     "name": "stdout",
     "output_type": "stream",
     "text": [
      "                   all       1101       1858      0.991      0.994      0.995      0.989      0.991      0.994      0.995      0.838\n",
      "\n",
      "      Epoch    GPU_mem   box_loss   seg_loss   cls_loss   dfl_loss  Instances       Size\n"
     ]
    },
    {
     "name": "stderr",
     "output_type": "stream",
     "text": [
      "     67/100      6.55G     0.2928     0.8418     0.1944     0.8289         52        512: 100%|██████████| 121/121 [00:52<00:00,  2.29it/s]\n",
      "                 Class     Images  Instances      Box(P          R      mAP50  mAP50-95)     Mask(P          R      mAP50  mAP50-95): 100%|██████████| 35/35 [00:26<00:00,  1.33it/s]\n"
     ]
    },
    {
     "name": "stdout",
     "output_type": "stream",
     "text": [
      "                   all       1101       1858      0.992      0.994      0.995      0.989      0.992      0.994      0.995       0.84\n",
      "\n",
      "      Epoch    GPU_mem   box_loss   seg_loss   cls_loss   dfl_loss  Instances       Size\n"
     ]
    },
    {
     "name": "stderr",
     "output_type": "stream",
     "text": [
      "     68/100      6.64G     0.2873      0.826     0.1897     0.8266         52        512: 100%|██████████| 121/121 [00:50<00:00,  2.39it/s]\n",
      "                 Class     Images  Instances      Box(P          R      mAP50  mAP50-95)     Mask(P          R      mAP50  mAP50-95): 100%|██████████| 35/35 [00:29<00:00,  1.20it/s]\n"
     ]
    },
    {
     "name": "stdout",
     "output_type": "stream",
     "text": [
      "                   all       1101       1858      0.992      0.995      0.995      0.989      0.992      0.995      0.995      0.839\n",
      "\n",
      "      Epoch    GPU_mem   box_loss   seg_loss   cls_loss   dfl_loss  Instances       Size\n"
     ]
    },
    {
     "name": "stderr",
     "output_type": "stream",
     "text": [
      "     69/100      6.57G     0.2901     0.8283     0.1906     0.8304         47        512: 100%|██████████| 121/121 [00:52<00:00,  2.31it/s]\n",
      "                 Class     Images  Instances      Box(P          R      mAP50  mAP50-95)     Mask(P          R      mAP50  mAP50-95): 100%|██████████| 35/35 [00:25<00:00,  1.39it/s]\n"
     ]
    },
    {
     "name": "stdout",
     "output_type": "stream",
     "text": [
      "                   all       1101       1858       0.99      0.995      0.994      0.989       0.99      0.995      0.994      0.839\n",
      "\n",
      "      Epoch    GPU_mem   box_loss   seg_loss   cls_loss   dfl_loss  Instances       Size\n"
     ]
    },
    {
     "name": "stderr",
     "output_type": "stream",
     "text": [
      "     70/100      6.57G     0.2922     0.8473     0.1932     0.8291         46        512: 100%|██████████| 121/121 [00:37<00:00,  3.23it/s]\n",
      "                 Class     Images  Instances      Box(P          R      mAP50  mAP50-95)     Mask(P          R      mAP50  mAP50-95): 100%|██████████| 35/35 [00:27<00:00,  1.29it/s]\n"
     ]
    },
    {
     "name": "stdout",
     "output_type": "stream",
     "text": [
      "                   all       1101       1858       0.99      0.994      0.995      0.988       0.99      0.994      0.995      0.829\n",
      "\n",
      "      Epoch    GPU_mem   box_loss   seg_loss   cls_loss   dfl_loss  Instances       Size\n"
     ]
    },
    {
     "name": "stderr",
     "output_type": "stream",
     "text": [
      "     71/100      6.54G     0.2861      0.839      0.186     0.8279         48        512: 100%|██████████| 121/121 [00:53<00:00,  2.28it/s]\n",
      "                 Class     Images  Instances      Box(P          R      mAP50  mAP50-95)     Mask(P          R      mAP50  mAP50-95): 100%|██████████| 35/35 [00:28<00:00,  1.25it/s]\n"
     ]
    },
    {
     "name": "stdout",
     "output_type": "stream",
     "text": [
      "                   all       1101       1858      0.992      0.995      0.995      0.989      0.992      0.995      0.995      0.829\n",
      "\n",
      "      Epoch    GPU_mem   box_loss   seg_loss   cls_loss   dfl_loss  Instances       Size\n"
     ]
    },
    {
     "name": "stderr",
     "output_type": "stream",
     "text": [
      "     72/100      6.61G     0.2889     0.8243     0.1913     0.8306         45        512: 100%|██████████| 121/121 [00:50<00:00,  2.41it/s]\n",
      "                 Class     Images  Instances      Box(P          R      mAP50  mAP50-95)     Mask(P          R      mAP50  mAP50-95): 100%|██████████| 35/35 [00:25<00:00,  1.35it/s]\n"
     ]
    },
    {
     "name": "stdout",
     "output_type": "stream",
     "text": [
      "                   all       1101       1858       0.99      0.996      0.995       0.99       0.99      0.996      0.995      0.835\n",
      "\n",
      "      Epoch    GPU_mem   box_loss   seg_loss   cls_loss   dfl_loss  Instances       Size\n"
     ]
    },
    {
     "name": "stderr",
     "output_type": "stream",
     "text": [
      "     73/100      6.55G     0.2817     0.8332     0.1863     0.8254         37        512: 100%|██████████| 121/121 [00:51<00:00,  2.35it/s]\n",
      "                 Class     Images  Instances      Box(P          R      mAP50  mAP50-95)     Mask(P          R      mAP50  mAP50-95): 100%|██████████| 35/35 [00:27<00:00,  1.27it/s]\n"
     ]
    },
    {
     "name": "stdout",
     "output_type": "stream",
     "text": [
      "                   all       1101       1858      0.994      0.996      0.995      0.989      0.994      0.996      0.995      0.838\n",
      "\n",
      "      Epoch    GPU_mem   box_loss   seg_loss   cls_loss   dfl_loss  Instances       Size\n"
     ]
    },
    {
     "name": "stderr",
     "output_type": "stream",
     "text": [
      "     74/100      6.62G      0.281     0.8041     0.1791     0.8291         45        512: 100%|██████████| 121/121 [00:36<00:00,  3.31it/s]\n",
      "                 Class     Images  Instances      Box(P          R      mAP50  mAP50-95)     Mask(P          R      mAP50  mAP50-95): 100%|██████████| 35/35 [00:25<00:00,  1.36it/s]\n"
     ]
    },
    {
     "name": "stdout",
     "output_type": "stream",
     "text": [
      "                   all       1101       1858      0.993      0.997      0.994      0.989      0.993      0.997      0.994      0.835\n",
      "\n",
      "      Epoch    GPU_mem   box_loss   seg_loss   cls_loss   dfl_loss  Instances       Size\n"
     ]
    },
    {
     "name": "stderr",
     "output_type": "stream",
     "text": [
      "     75/100      6.52G     0.2791     0.8061     0.1817     0.8281         37        512: 100%|██████████| 121/121 [00:52<00:00,  2.32it/s]\n",
      "                 Class     Images  Instances      Box(P          R      mAP50  mAP50-95)     Mask(P          R      mAP50  mAP50-95): 100%|██████████| 35/35 [00:27<00:00,  1.29it/s]\n"
     ]
    },
    {
     "name": "stdout",
     "output_type": "stream",
     "text": [
      "                   all       1101       1858      0.992      0.995      0.995      0.989      0.992      0.995      0.995      0.834\n",
      "\n",
      "      Epoch    GPU_mem   box_loss   seg_loss   cls_loss   dfl_loss  Instances       Size\n"
     ]
    },
    {
     "name": "stderr",
     "output_type": "stream",
     "text": [
      "     76/100      6.63G     0.2801     0.7985      0.184     0.8274         34        512: 100%|██████████| 121/121 [00:36<00:00,  3.34it/s]\n",
      "                 Class     Images  Instances      Box(P          R      mAP50  mAP50-95)     Mask(P          R      mAP50  mAP50-95): 100%|██████████| 35/35 [00:42<00:00,  1.21s/it]\n"
     ]
    },
    {
     "name": "stdout",
     "output_type": "stream",
     "text": [
      "                   all       1101       1858      0.991      0.996      0.994      0.989      0.991      0.996      0.994      0.838\n",
      "\n",
      "      Epoch    GPU_mem   box_loss   seg_loss   cls_loss   dfl_loss  Instances       Size\n"
     ]
    },
    {
     "name": "stderr",
     "output_type": "stream",
     "text": [
      "     77/100      6.54G     0.2775     0.8015     0.1777     0.8234         46        512: 100%|██████████| 121/121 [00:48<00:00,  2.47it/s]\n",
      "                 Class     Images  Instances      Box(P          R      mAP50  mAP50-95)     Mask(P          R      mAP50  mAP50-95): 100%|██████████| 35/35 [00:27<00:00,  1.29it/s]\n"
     ]
    },
    {
     "name": "stdout",
     "output_type": "stream",
     "text": [
      "                   all       1101       1858       0.99      0.996      0.994      0.989       0.99      0.996      0.994      0.838\n",
      "\n",
      "      Epoch    GPU_mem   box_loss   seg_loss   cls_loss   dfl_loss  Instances       Size\n"
     ]
    },
    {
     "name": "stderr",
     "output_type": "stream",
     "text": [
      "     78/100      6.62G     0.2736     0.8072     0.1793     0.8218         47        512: 100%|██████████| 121/121 [00:52<00:00,  2.31it/s]\n",
      "                 Class     Images  Instances      Box(P          R      mAP50  mAP50-95)     Mask(P          R      mAP50  mAP50-95): 100%|██████████| 35/35 [00:29<00:00,  1.19it/s]\n"
     ]
    },
    {
     "name": "stdout",
     "output_type": "stream",
     "text": [
      "                   all       1101       1858       0.99      0.995      0.995      0.989       0.99      0.995      0.995      0.839\n",
      "\n",
      "      Epoch    GPU_mem   box_loss   seg_loss   cls_loss   dfl_loss  Instances       Size\n"
     ]
    },
    {
     "name": "stderr",
     "output_type": "stream",
     "text": [
      "     79/100      6.53G     0.2745     0.8002     0.1783     0.8229         56        512: 100%|██████████| 121/121 [00:49<00:00,  2.44it/s]\n",
      "                 Class     Images  Instances      Box(P          R      mAP50  mAP50-95)     Mask(P          R      mAP50  mAP50-95): 100%|██████████| 35/35 [00:27<00:00,  1.26it/s]\n"
     ]
    },
    {
     "name": "stdout",
     "output_type": "stream",
     "text": [
      "                   all       1101       1858      0.994      0.995      0.994       0.99      0.994      0.995      0.994      0.835\n",
      "\n",
      "      Epoch    GPU_mem   box_loss   seg_loss   cls_loss   dfl_loss  Instances       Size\n"
     ]
    },
    {
     "name": "stderr",
     "output_type": "stream",
     "text": [
      "     80/100      6.63G     0.2779     0.8006     0.1785     0.8243         43        512: 100%|██████████| 121/121 [00:52<00:00,  2.29it/s]\n",
      "                 Class     Images  Instances      Box(P          R      mAP50  mAP50-95)     Mask(P          R      mAP50  mAP50-95): 100%|██████████| 35/35 [00:26<00:00,  1.34it/s]\n"
     ]
    },
    {
     "name": "stdout",
     "output_type": "stream",
     "text": [
      "                   all       1101       1858      0.992      0.996      0.994      0.989      0.992      0.996      0.994      0.835\n",
      "\n",
      "      Epoch    GPU_mem   box_loss   seg_loss   cls_loss   dfl_loss  Instances       Size\n"
     ]
    },
    {
     "name": "stderr",
     "output_type": "stream",
     "text": [
      "     81/100      6.53G     0.2736     0.8024     0.1792     0.8238         55        512: 100%|██████████| 121/121 [00:50<00:00,  2.39it/s]\n",
      "                 Class     Images  Instances      Box(P          R      mAP50  mAP50-95)     Mask(P          R      mAP50  mAP50-95): 100%|██████████| 35/35 [00:28<00:00,  1.25it/s]\n"
     ]
    },
    {
     "name": "stdout",
     "output_type": "stream",
     "text": [
      "                   all       1101       1858      0.994      0.996      0.995      0.989      0.994      0.996      0.995      0.835\n",
      "\n",
      "      Epoch    GPU_mem   box_loss   seg_loss   cls_loss   dfl_loss  Instances       Size\n"
     ]
    },
    {
     "name": "stderr",
     "output_type": "stream",
     "text": [
      "     82/100      6.66G     0.2695     0.7974      0.174     0.8252         47        512: 100%|██████████| 121/121 [00:53<00:00,  2.26it/s]\n",
      "                 Class     Images  Instances      Box(P          R      mAP50  mAP50-95)     Mask(P          R      mAP50  mAP50-95): 100%|██████████| 35/35 [00:25<00:00,  1.36it/s]\n"
     ]
    },
    {
     "name": "stdout",
     "output_type": "stream",
     "text": [
      "                   all       1101       1858      0.992      0.996      0.995      0.989      0.992      0.996      0.995      0.836\n",
      "\n",
      "      Epoch    GPU_mem   box_loss   seg_loss   cls_loss   dfl_loss  Instances       Size\n"
     ]
    },
    {
     "name": "stderr",
     "output_type": "stream",
     "text": [
      "     83/100      6.54G     0.2707     0.8076     0.1764     0.8225         44        512: 100%|██████████| 121/121 [00:52<00:00,  2.29it/s]\n",
      "                 Class     Images  Instances      Box(P          R      mAP50  mAP50-95)     Mask(P          R      mAP50  mAP50-95): 100%|██████████| 35/35 [00:26<00:00,  1.32it/s]\n"
     ]
    },
    {
     "name": "stdout",
     "output_type": "stream",
     "text": [
      "                   all       1101       1858      0.993      0.994      0.995      0.989      0.993      0.994      0.995      0.838\n",
      "\n",
      "      Epoch    GPU_mem   box_loss   seg_loss   cls_loss   dfl_loss  Instances       Size\n"
     ]
    },
    {
     "name": "stderr",
     "output_type": "stream",
     "text": [
      "     84/100      6.62G     0.2673     0.7903     0.1764     0.8244         45        512: 100%|██████████| 121/121 [00:49<00:00,  2.46it/s]\n",
      "                 Class     Images  Instances      Box(P          R      mAP50  mAP50-95)     Mask(P          R      mAP50  mAP50-95): 100%|██████████| 35/35 [00:28<00:00,  1.23it/s]\n"
     ]
    },
    {
     "name": "stdout",
     "output_type": "stream",
     "text": [
      "                   all       1101       1858      0.992      0.995      0.995      0.989      0.992      0.995      0.995      0.837\n",
      "\n",
      "      Epoch    GPU_mem   box_loss   seg_loss   cls_loss   dfl_loss  Instances       Size\n"
     ]
    },
    {
     "name": "stderr",
     "output_type": "stream",
     "text": [
      "     85/100      6.53G     0.2686     0.7785     0.1713     0.8235         56        512: 100%|██████████| 121/121 [00:52<00:00,  2.29it/s]  \n",
      "                 Class     Images  Instances      Box(P          R      mAP50  mAP50-95)     Mask(P          R      mAP50  mAP50-95): 100%|██████████| 35/35 [00:28<00:00,  1.21it/s]\n"
     ]
    },
    {
     "name": "stdout",
     "output_type": "stream",
     "text": [
      "                   all       1101       1858      0.992      0.996      0.995      0.989      0.992      0.996      0.995      0.836\n",
      "\n",
      "      Epoch    GPU_mem   box_loss   seg_loss   cls_loss   dfl_loss  Instances       Size\n"
     ]
    },
    {
     "name": "stderr",
     "output_type": "stream",
     "text": [
      "     86/100      6.63G     0.2674      0.801     0.1756     0.8198         55        512: 100%|██████████| 121/121 [00:49<00:00,  2.45it/s]\n",
      "                 Class     Images  Instances      Box(P          R      mAP50  mAP50-95)     Mask(P          R      mAP50  mAP50-95): 100%|██████████| 35/35 [00:26<00:00,  1.31it/s]\n"
     ]
    },
    {
     "name": "stdout",
     "output_type": "stream",
     "text": [
      "                   all       1101       1858      0.992      0.996      0.995       0.99      0.992      0.996      0.995      0.838\n",
      "\n",
      "      Epoch    GPU_mem   box_loss   seg_loss   cls_loss   dfl_loss  Instances       Size\n"
     ]
    },
    {
     "name": "stderr",
     "output_type": "stream",
     "text": [
      "     87/100      6.59G     0.2681      0.794     0.1726     0.8234         54        512: 100%|██████████| 121/121 [00:53<00:00,  2.28it/s]\n",
      "                 Class     Images  Instances      Box(P          R      mAP50  mAP50-95)     Mask(P          R      mAP50  mAP50-95): 100%|██████████| 35/35 [00:26<00:00,  1.30it/s]\n"
     ]
    },
    {
     "name": "stdout",
     "output_type": "stream",
     "text": [
      "                   all       1101       1858      0.993      0.996      0.995       0.99      0.993      0.996      0.995       0.84\n",
      "\n",
      "      Epoch    GPU_mem   box_loss   seg_loss   cls_loss   dfl_loss  Instances       Size\n"
     ]
    },
    {
     "name": "stderr",
     "output_type": "stream",
     "text": [
      "     88/100      6.61G     0.2628     0.7797     0.1703     0.8216         35        512: 100%|██████████| 121/121 [00:49<00:00,  2.45it/s]\n",
      "                 Class     Images  Instances      Box(P          R      mAP50  mAP50-95)     Mask(P          R      mAP50  mAP50-95): 100%|██████████| 35/35 [00:27<00:00,  1.27it/s]\n"
     ]
    },
    {
     "name": "stdout",
     "output_type": "stream",
     "text": [
      "                   all       1101       1858      0.993      0.995      0.995       0.99      0.993      0.995      0.995      0.837\n",
      "\n",
      "      Epoch    GPU_mem   box_loss   seg_loss   cls_loss   dfl_loss  Instances       Size\n"
     ]
    },
    {
     "name": "stderr",
     "output_type": "stream",
     "text": [
      "     89/100      6.54G     0.2671     0.7592     0.1685     0.8255         52        512: 100%|██████████| 121/121 [00:53<00:00,  2.28it/s]\n",
      "                 Class     Images  Instances      Box(P          R      mAP50  mAP50-95)     Mask(P          R      mAP50  mAP50-95): 100%|██████████| 35/35 [00:26<00:00,  1.33it/s]\n"
     ]
    },
    {
     "name": "stdout",
     "output_type": "stream",
     "text": [
      "                   all       1101       1858      0.993      0.995      0.995       0.99      0.993      0.995      0.995      0.839\n",
      "\n",
      "      Epoch    GPU_mem   box_loss   seg_loss   cls_loss   dfl_loss  Instances       Size\n"
     ]
    },
    {
     "name": "stderr",
     "output_type": "stream",
     "text": [
      "     90/100      6.63G     0.2649     0.7829     0.1679     0.8199         40        512: 100%|██████████| 121/121 [00:50<00:00,  2.38it/s]\n",
      "                 Class     Images  Instances      Box(P          R      mAP50  mAP50-95)     Mask(P          R      mAP50  mAP50-95):  23%|██▎       | 8/35 [00:06<00:20,  1.32it/s]"
     ]
    },
    {
     "name": "stdout",
     "output_type": "stream",
     "text": [
      "WARNING ⚠️ NMS time limit 3.600s exceeded\n"
     ]
    },
    {
     "name": "stderr",
     "output_type": "stream",
     "text": [
      "                 Class     Images  Instances      Box(P          R      mAP50  mAP50-95)     Mask(P          R      mAP50  mAP50-95): 100%|██████████| 35/35 [00:26<00:00,  1.32it/s]\n"
     ]
    },
    {
     "name": "stdout",
     "output_type": "stream",
     "text": [
      "                   all       1101       1858      0.995      0.974      0.986      0.981      0.995      0.974      0.986      0.832\n",
      "Closing dataloader mosaic\n",
      "\n",
      "      Epoch    GPU_mem   box_loss   seg_loss   cls_loss   dfl_loss  Instances       Size\n"
     ]
    },
    {
     "name": "stderr",
     "output_type": "stream",
     "text": [
      "     91/100      6.44G     0.1613     0.6118     0.1099     0.7835         11        512: 100%|██████████| 121/121 [00:52<00:00,  2.30it/s]\n",
      "                 Class     Images  Instances      Box(P          R      mAP50  mAP50-95)     Mask(P          R      mAP50  mAP50-95):  63%|██████▎   | 22/35 [00:16<00:07,  1.65it/s]"
     ]
    },
    {
     "name": "stdout",
     "output_type": "stream",
     "text": [
      "WARNING ⚠️ NMS time limit 3.600s exceeded\n"
     ]
    },
    {
     "name": "stderr",
     "output_type": "stream",
     "text": [
      "                 Class     Images  Instances      Box(P          R      mAP50  mAP50-95)     Mask(P          R      mAP50  mAP50-95): 100%|██████████| 35/35 [00:26<00:00,  1.31it/s]\n"
     ]
    },
    {
     "name": "stdout",
     "output_type": "stream",
     "text": [
      "                   all       1101       1858      0.995      0.984      0.991      0.985      0.995      0.984      0.991      0.834\n",
      "\n",
      "      Epoch    GPU_mem   box_loss   seg_loss   cls_loss   dfl_loss  Instances       Size\n"
     ]
    },
    {
     "name": "stderr",
     "output_type": "stream",
     "text": [
      "     92/100      6.51G      0.158     0.6056      0.104     0.7784         11        512: 100%|██████████| 121/121 [00:50<00:00,  2.41it/s]\n",
      "                 Class     Images  Instances      Box(P          R      mAP50  mAP50-95)     Mask(P          R      mAP50  mAP50-95): 100%|██████████| 35/35 [00:42<00:00,  1.21s/it]\n"
     ]
    },
    {
     "name": "stdout",
     "output_type": "stream",
     "text": [
      "                   all       1101       1858      0.995      0.995      0.995      0.989      0.995      0.995      0.995      0.837\n",
      "\n",
      "      Epoch    GPU_mem   box_loss   seg_loss   cls_loss   dfl_loss  Instances       Size\n"
     ]
    },
    {
     "name": "stderr",
     "output_type": "stream",
     "text": [
      "     93/100      6.45G     0.1543     0.5997     0.1007     0.7768         13        512: 100%|██████████| 121/121 [00:50<00:00,  2.41it/s] \n",
      "                 Class     Images  Instances      Box(P          R      mAP50  mAP50-95)     Mask(P          R      mAP50  mAP50-95): 100%|██████████| 35/35 [00:27<00:00,  1.27it/s]\n"
     ]
    },
    {
     "name": "stdout",
     "output_type": "stream",
     "text": [
      "                   all       1101       1858      0.995      0.995      0.995      0.989      0.995      0.995      0.995      0.838\n",
      "\n",
      "      Epoch    GPU_mem   box_loss   seg_loss   cls_loss   dfl_loss  Instances       Size\n"
     ]
    },
    {
     "name": "stderr",
     "output_type": "stream",
     "text": [
      "     94/100      6.52G     0.1574     0.5937      0.102     0.7768         15        512: 100%|██████████| 121/121 [00:51<00:00,  2.36it/s]\n",
      "                 Class     Images  Instances      Box(P          R      mAP50  mAP50-95)     Mask(P          R      mAP50  mAP50-95):   0%|          | 0/35 [00:00<?, ?it/s]"
     ]
    },
    {
     "name": "stdout",
     "output_type": "stream",
     "text": [
      "WARNING ⚠️ NMS time limit 3.600s exceeded\n"
     ]
    },
    {
     "name": "stderr",
     "output_type": "stream",
     "text": [
      "                 Class     Images  Instances      Box(P          R      mAP50  mAP50-95)     Mask(P          R      mAP50  mAP50-95): 100%|██████████| 35/35 [00:27<00:00,  1.27it/s]\n"
     ]
    },
    {
     "name": "stdout",
     "output_type": "stream",
     "text": [
      "                   all       1101       1858      0.994      0.967      0.982      0.976      0.994      0.967      0.982      0.827\n",
      "\n",
      "      Epoch    GPU_mem   box_loss   seg_loss   cls_loss   dfl_loss  Instances       Size\n"
     ]
    },
    {
     "name": "stderr",
     "output_type": "stream",
     "text": [
      "     95/100      6.46G     0.1548     0.5936     0.1003     0.7746         10        512: 100%|██████████| 121/121 [00:51<00:00,  2.35it/s]\n",
      "                 Class     Images  Instances      Box(P          R      mAP50  mAP50-95)     Mask(P          R      mAP50  mAP50-95): 100%|██████████| 35/35 [00:29<00:00,  1.19it/s]\n"
     ]
    },
    {
     "name": "stdout",
     "output_type": "stream",
     "text": [
      "                   all       1101       1858      0.994      0.996      0.995       0.99      0.994      0.996      0.995      0.841\n",
      "\n",
      "      Epoch    GPU_mem   box_loss   seg_loss   cls_loss   dfl_loss  Instances       Size\n"
     ]
    },
    {
     "name": "stderr",
     "output_type": "stream",
     "text": [
      "     96/100       6.5G      0.153     0.5915     0.1018     0.7757         10        512: 100%|██████████| 121/121 [00:50<00:00,  2.39it/s]\n",
      "                 Class     Images  Instances      Box(P          R      mAP50  mAP50-95)     Mask(P          R      mAP50  mAP50-95): 100%|██████████| 35/35 [00:28<00:00,  1.22it/s]\n"
     ]
    },
    {
     "name": "stdout",
     "output_type": "stream",
     "text": [
      "                   all       1101       1858      0.993      0.996      0.995       0.99      0.993      0.996      0.995      0.841\n",
      "\n",
      "      Epoch    GPU_mem   box_loss   seg_loss   cls_loss   dfl_loss  Instances       Size\n"
     ]
    },
    {
     "name": "stderr",
     "output_type": "stream",
     "text": [
      "     97/100      6.45G     0.1539     0.5913     0.1003     0.7771         15        512: 100%|██████████| 121/121 [00:52<00:00,  2.30it/s]\n",
      "                 Class     Images  Instances      Box(P          R      mAP50  mAP50-95)     Mask(P          R      mAP50  mAP50-95): 100%|██████████| 35/35 [00:28<00:00,  1.23it/s]\n"
     ]
    },
    {
     "name": "stdout",
     "output_type": "stream",
     "text": [
      "                   all       1101       1858      0.994      0.995      0.995       0.99      0.994      0.995      0.995       0.84\n",
      "\n",
      "      Epoch    GPU_mem   box_loss   seg_loss   cls_loss   dfl_loss  Instances       Size\n"
     ]
    },
    {
     "name": "stderr",
     "output_type": "stream",
     "text": [
      "     98/100      6.52G     0.1532     0.5879     0.1002     0.7771         12        512: 100%|██████████| 121/121 [00:51<00:00,  2.37it/s]\n",
      "                 Class     Images  Instances      Box(P          R      mAP50  mAP50-95)     Mask(P          R      mAP50  mAP50-95): 100%|██████████| 35/35 [00:27<00:00,  1.28it/s]\n"
     ]
    },
    {
     "name": "stdout",
     "output_type": "stream",
     "text": [
      "                   all       1101       1858      0.992      0.996      0.995       0.99      0.992      0.996      0.995       0.84\n",
      "\n",
      "      Epoch    GPU_mem   box_loss   seg_loss   cls_loss   dfl_loss  Instances       Size\n"
     ]
    },
    {
     "name": "stderr",
     "output_type": "stream",
     "text": [
      "     99/100      6.45G     0.1531     0.5923    0.09693     0.7784         13        512: 100%|██████████| 121/121 [00:51<00:00,  2.36it/s]\n",
      "                 Class     Images  Instances      Box(P          R      mAP50  mAP50-95)     Mask(P          R      mAP50  mAP50-95): 100%|██████████| 35/35 [00:26<00:00,  1.32it/s]\n"
     ]
    },
    {
     "name": "stdout",
     "output_type": "stream",
     "text": [
      "                   all       1101       1858      0.992      0.996      0.995       0.99      0.992      0.996      0.995       0.84\n",
      "\n",
      "      Epoch    GPU_mem   box_loss   seg_loss   cls_loss   dfl_loss  Instances       Size\n"
     ]
    },
    {
     "name": "stderr",
     "output_type": "stream",
     "text": [
      "    100/100      6.52G     0.1531     0.5706     0.0983     0.7784         16        512: 100%|██████████| 121/121 [00:52<00:00,  2.31it/s]\n",
      "                 Class     Images  Instances      Box(P          R      mAP50  mAP50-95)     Mask(P          R      mAP50  mAP50-95):  63%|██████▎   | 22/35 [00:15<00:08,  1.61it/s]"
     ]
    },
    {
     "name": "stdout",
     "output_type": "stream",
     "text": [
      "WARNING ⚠️ NMS time limit 3.600s exceeded\n"
     ]
    },
    {
     "name": "stderr",
     "output_type": "stream",
     "text": [
      "                 Class     Images  Instances      Box(P          R      mAP50  mAP50-95)     Mask(P          R      mAP50  mAP50-95): 100%|██████████| 35/35 [00:27<00:00,  1.28it/s]\n"
     ]
    },
    {
     "name": "stdout",
     "output_type": "stream",
     "text": [
      "                   all       1101       1858      0.992      0.994      0.995       0.99      0.992      0.994      0.995      0.839\n",
      "\n",
      "100 epochs completed in 3.564 hours.\n",
      "Optimizer stripped from training_result_yolo11m-seg/yolo11m-seg_cow/weights/last.pt, 45.1MB\n",
      "Optimizer stripped from training_result_yolo11m-seg/yolo11m-seg_cow/weights/best.pt, 45.1MB\n",
      "\n",
      "Validating training_result_yolo11m-seg/yolo11m-seg_cow/weights/best.pt...\n",
      "Ultralytics 8.3.154 🚀 Python-3.12.11 torch-2.6.0+cu124 CUDA:0 (NVIDIA TITAN V, 12288MiB)\n",
      "                                                        CUDA:1 (NVIDIA TITAN V, 12287MiB)\n",
      "YOLO11m-seg summary (fused): 138 layers, 22,336,083 parameters, 0 gradients, 123.0 GFLOPs\n"
     ]
    },
    {
     "name": "stderr",
     "output_type": "stream",
     "text": [
      "                 Class     Images  Instances      Box(P          R      mAP50  mAP50-95)     Mask(P          R      mAP50  mAP50-95): 100%|██████████| 35/35 [00:27<00:00,  1.26it/s]\n"
     ]
    },
    {
     "name": "stdout",
     "output_type": "stream",
     "text": [
      "                   all       1101       1858      0.993      0.996      0.995       0.99      0.993      0.996      0.995       0.84\n",
      "Speed: 0.1ms preprocess, 1.5ms inference, 0.0ms loss, 3.8ms postprocess per image\n",
      "Saving training_result_yolo11m-seg/yolo11m-seg_cow/predictions.json...\n",
      "Results saved to \u001b[1mtraining_result_yolo11m-seg/yolo11m-seg_cow\u001b[0m\n"
     ]
    },
    {
     "name": "stderr",
     "output_type": "stream",
     "text": [
      "\u001b[1;38;5;196mCOMET ERROR:\u001b[0m We failed to read file 'training_result_yolo11m-seg/yolo11m-seg_cow/BoxF1_curve.png' for uploading.\n",
      "Please double-check the file path and permissions\n",
      "\u001b[1;38;5;196mCOMET ERROR:\u001b[0m We failed to read file 'training_result_yolo11m-seg/yolo11m-seg_cow/BoxP_curve.png' for uploading.\n",
      "Please double-check the file path and permissions\n",
      "\u001b[1;38;5;196mCOMET ERROR:\u001b[0m We failed to read file 'training_result_yolo11m-seg/yolo11m-seg_cow/BoxR_curve.png' for uploading.\n",
      "Please double-check the file path and permissions\n",
      "\u001b[1;38;5;196mCOMET ERROR:\u001b[0m We failed to read file 'training_result_yolo11m-seg/yolo11m-seg_cow/BoxPR_curve.png' for uploading.\n",
      "Please double-check the file path and permissions\n",
      "\u001b[1;38;5;196mCOMET ERROR:\u001b[0m We failed to read file 'training_result_yolo11m-seg/yolo11m-seg_cow/labels_correlogram.jpg' for uploading.\n",
      "Please double-check the file path and permissions\n",
      "\u001b[1;38;5;39mCOMET INFO:\u001b[0m ---------------------------------------------------------------------------------------\n",
      "\u001b[1;38;5;39mCOMET INFO:\u001b[0m Comet.ml Experiment Summary\n",
      "\u001b[1;38;5;39mCOMET INFO:\u001b[0m ---------------------------------------------------------------------------------------\n",
      "\u001b[1;38;5;39mCOMET INFO:\u001b[0m   Data:\n",
      "\u001b[1;38;5;39mCOMET INFO:\u001b[0m     display_summary_level : 1\n",
      "\u001b[1;38;5;39mCOMET INFO:\u001b[0m     name                  : yolo11m-seg_cow\n",
      "\u001b[1;38;5;39mCOMET INFO:\u001b[0m     url                   : \u001b[38;5;39mhttps://www.comet.com/felimet/training-result-yolo11m-seg/66a507e71b8641f592599a07376e71c4\u001b[0m\n",
      "\u001b[1;38;5;39mCOMET INFO:\u001b[0m   Metrics [count] (min, max):\n",
      "\u001b[1;38;5;39mCOMET INFO:\u001b[0m     lr/pg0 [201]               : (1.7334757257625456e-06, 0.008347107438016529)\n",
      "\u001b[1;38;5;39mCOMET INFO:\u001b[0m     lr/pg1 [201]               : (1.7334757257625456e-06, 0.004988906021016549)\n",
      "\u001b[1;38;5;39mCOMET INFO:\u001b[0m     lr/pg2 [201]               : (1.7334757257625456e-06, 0.004988906021016549)\n",
      "\u001b[1;38;5;39mCOMET INFO:\u001b[0m     metrics/mAP50(B) [202]     : (0.01328, 0.99475)\n",
      "\u001b[1;38;5;39mCOMET INFO:\u001b[0m     metrics/mAP50(M) [202]     : (0.00711, 0.99475)\n",
      "\u001b[1;38;5;39mCOMET INFO:\u001b[0m     metrics/mAP50-95(B) [202]  : (0.00447, 0.99005)\n",
      "\u001b[1;38;5;39mCOMET INFO:\u001b[0m     metrics/mAP50-95(M) [202]  : (0.0011, 0.84057)\n",
      "\u001b[1;38;5;39mCOMET INFO:\u001b[0m     metrics/precision(B) [202] : (0.01506, 0.99516)\n",
      "\u001b[1;38;5;39mCOMET INFO:\u001b[0m     metrics/precision(M) [202] : (0.00704, 0.99516)\n",
      "\u001b[1;38;5;39mCOMET INFO:\u001b[0m     metrics/recall(B) [202]    : (0.26642, 0.99785)\n",
      "\u001b[1;38;5;39mCOMET INFO:\u001b[0m     metrics/recall(M) [202]    : (0.63832, 0.99785)\n",
      "\u001b[1;38;5;39mCOMET INFO:\u001b[0m     model/GFLOPs               : 123.58\n",
      "\u001b[1;38;5;39mCOMET INFO:\u001b[0m     model/parameters           : 22359987\n",
      "\u001b[1;38;5;39mCOMET INFO:\u001b[0m     model/speed_PyTorch(ms)    : 3.758\n",
      "\u001b[1;38;5;39mCOMET INFO:\u001b[0m     train/box_loss [200]       : (0.15298, 0.77221)\n",
      "\u001b[1;38;5;39mCOMET INFO:\u001b[0m     train/cls_loss [200]       : (0.09693, 0.74359)\n",
      "\u001b[1;38;5;39mCOMET INFO:\u001b[0m     train/dfl_loss [200]       : (0.77462, 1.02821)\n",
      "\u001b[1;38;5;39mCOMET INFO:\u001b[0m     train/seg_loss [200]       : (0.57064, 1.79634)\n",
      "\u001b[1;38;5;39mCOMET INFO:\u001b[0m     val/box_loss [200]         : (0.15696, 0.52212)\n",
      "\u001b[1;38;5;39mCOMET INFO:\u001b[0m     val/cls_loss [200]         : (0.09316, 2.06807)\n",
      "\u001b[1;38;5;39mCOMET INFO:\u001b[0m     val/dfl_loss [200]         : (0.72135, 0.87676)\n",
      "\u001b[1;38;5;39mCOMET INFO:\u001b[0m     val/seg_loss [200]         : (0.62234, 1.47044)\n",
      "\u001b[1;38;5;39mCOMET INFO:\u001b[0m   Others:\n",
      "\u001b[1;38;5;39mCOMET INFO:\u001b[0m     Name                         : yolo11m-seg_cow\n",
      "\u001b[1;38;5;39mCOMET INFO:\u001b[0m     eval_batch_logging_interval  : 1\n",
      "\u001b[1;38;5;39mCOMET INFO:\u001b[0m     log_confusion_matrix_on_eval : False\n",
      "\u001b[1;38;5;39mCOMET INFO:\u001b[0m     log_image_predictions        : True\n",
      "\u001b[1;38;5;39mCOMET INFO:\u001b[0m     max_image_predictions        : 200\n",
      "\u001b[1;38;5;39mCOMET INFO:\u001b[0m   Parameters:\n",
      "\u001b[1;38;5;39mCOMET INFO:\u001b[0m     agnostic_nms    : False\n",
      "\u001b[1;38;5;39mCOMET INFO:\u001b[0m     amp             : True\n",
      "\u001b[1;38;5;39mCOMET INFO:\u001b[0m     augment         : False\n",
      "\u001b[1;38;5;39mCOMET INFO:\u001b[0m     auto_augment    : randaugment\n",
      "\u001b[1;38;5;39mCOMET INFO:\u001b[0m     batch           : 32\n",
      "\u001b[1;38;5;39mCOMET INFO:\u001b[0m     bgr             : 0.0\n",
      "\u001b[1;38;5;39mCOMET INFO:\u001b[0m     box             : 7.5\n",
      "\u001b[1;38;5;39mCOMET INFO:\u001b[0m     cache           : disk\n",
      "\u001b[1;38;5;39mCOMET INFO:\u001b[0m     cfg             : None\n",
      "\u001b[1;38;5;39mCOMET INFO:\u001b[0m     classes         : None\n",
      "\u001b[1;38;5;39mCOMET INFO:\u001b[0m     close_mosaic    : 10\n",
      "\u001b[1;38;5;39mCOMET INFO:\u001b[0m     cls             : 0.5\n",
      "\u001b[1;38;5;39mCOMET INFO:\u001b[0m     conf            : None\n",
      "\u001b[1;38;5;39mCOMET INFO:\u001b[0m     copy_paste      : 0.3\n",
      "\u001b[1;38;5;39mCOMET INFO:\u001b[0m     copy_paste_mode : flip\n",
      "\u001b[1;38;5;39mCOMET INFO:\u001b[0m     cos_lr          : True\n",
      "\u001b[1;38;5;39mCOMET INFO:\u001b[0m     cutmix          : 0.5\n",
      "\u001b[1;38;5;39mCOMET INFO:\u001b[0m     data            : ./dataset_seg/yolo_data_integrated/dataset.yaml\n",
      "\u001b[1;38;5;39mCOMET INFO:\u001b[0m     degrees         : 0.0\n",
      "\u001b[1;38;5;39mCOMET INFO:\u001b[0m     deterministic   : True\n",
      "\u001b[1;38;5;39mCOMET INFO:\u001b[0m     device          : 0,1\n",
      "\u001b[1;38;5;39mCOMET INFO:\u001b[0m     dfl             : 1.5\n",
      "\u001b[1;38;5;39mCOMET INFO:\u001b[0m     dnn             : False\n",
      "\u001b[1;38;5;39mCOMET INFO:\u001b[0m     dropout         : 0.15\n",
      "\u001b[1;38;5;39mCOMET INFO:\u001b[0m     dynamic         : False\n",
      "\u001b[1;38;5;39mCOMET INFO:\u001b[0m     embed           : None\n",
      "\u001b[1;38;5;39mCOMET INFO:\u001b[0m     epochs          : 100\n",
      "\u001b[1;38;5;39mCOMET INFO:\u001b[0m     erasing         : 0.4\n",
      "\u001b[1;38;5;39mCOMET INFO:\u001b[0m     exist_ok        : True\n",
      "\u001b[1;38;5;39mCOMET INFO:\u001b[0m     fliplr          : 0.5\n",
      "\u001b[1;38;5;39mCOMET INFO:\u001b[0m     flipud          : 0.0\n",
      "\u001b[1;38;5;39mCOMET INFO:\u001b[0m     format          : torchscript\n",
      "\u001b[1;38;5;39mCOMET INFO:\u001b[0m     fraction        : 1.0\n",
      "\u001b[1;38;5;39mCOMET INFO:\u001b[0m     freeze          : None\n",
      "\u001b[1;38;5;39mCOMET INFO:\u001b[0m     half            : False\n",
      "\u001b[1;38;5;39mCOMET INFO:\u001b[0m     hsv_h           : 0.015\n",
      "\u001b[1;38;5;39mCOMET INFO:\u001b[0m     hsv_s           : 0.7\n",
      "\u001b[1;38;5;39mCOMET INFO:\u001b[0m     hsv_v           : 0.4\n",
      "\u001b[1;38;5;39mCOMET INFO:\u001b[0m     imgsz           : 512\n",
      "\u001b[1;38;5;39mCOMET INFO:\u001b[0m     int8            : False\n",
      "\u001b[1;38;5;39mCOMET INFO:\u001b[0m     iou             : 0.7\n",
      "\u001b[1;38;5;39mCOMET INFO:\u001b[0m     keras           : False\n",
      "\u001b[1;38;5;39mCOMET INFO:\u001b[0m     kobj            : 1.0\n",
      "\u001b[1;38;5;39mCOMET INFO:\u001b[0m     line_width      : None\n",
      "\u001b[1;38;5;39mCOMET INFO:\u001b[0m     lr0             : 0.005\n",
      "\u001b[1;38;5;39mCOMET INFO:\u001b[0m     lrf             : 0.0001\n",
      "\u001b[1;38;5;39mCOMET INFO:\u001b[0m     mask_ratio      : 4\n",
      "\u001b[1;38;5;39mCOMET INFO:\u001b[0m     max_det         : 300\n",
      "\u001b[1;38;5;39mCOMET INFO:\u001b[0m     mixup           : 0.5\n",
      "\u001b[1;38;5;39mCOMET INFO:\u001b[0m     mode            : train\n",
      "\u001b[1;38;5;39mCOMET INFO:\u001b[0m     model           : base_model/segment/yolo11m-seg.pt\n",
      "\u001b[1;38;5;39mCOMET INFO:\u001b[0m     momentum        : 0.937\n",
      "\u001b[1;38;5;39mCOMET INFO:\u001b[0m     mosaic          : 0.8\n",
      "\u001b[1;38;5;39mCOMET INFO:\u001b[0m     multi_scale     : False\n",
      "\u001b[1;38;5;39mCOMET INFO:\u001b[0m     name            : yolo11m-seg_cow\n",
      "\u001b[1;38;5;39mCOMET INFO:\u001b[0m     nbs             : 64\n",
      "\u001b[1;38;5;39mCOMET INFO:\u001b[0m     nms             : False\n",
      "\u001b[1;38;5;39mCOMET INFO:\u001b[0m     opset           : None\n",
      "\u001b[1;38;5;39mCOMET INFO:\u001b[0m     optimize        : False\n",
      "\u001b[1;38;5;39mCOMET INFO:\u001b[0m     optimizer       : AdamW\n",
      "\u001b[1;38;5;39mCOMET INFO:\u001b[0m     overlap_mask    : True\n",
      "\u001b[1;38;5;39mCOMET INFO:\u001b[0m     patience        : 25\n",
      "\u001b[1;38;5;39mCOMET INFO:\u001b[0m     perspective     : 0.0\n",
      "\u001b[1;38;5;39mCOMET INFO:\u001b[0m     plots           : True\n",
      "\u001b[1;38;5;39mCOMET INFO:\u001b[0m     pose            : 12.0\n",
      "\u001b[1;38;5;39mCOMET INFO:\u001b[0m     pretrained      : True\n",
      "\u001b[1;38;5;39mCOMET INFO:\u001b[0m     profile         : False\n",
      "\u001b[1;38;5;39mCOMET INFO:\u001b[0m     project         : training_result_yolo11m-seg\n",
      "\u001b[1;38;5;39mCOMET INFO:\u001b[0m     rect            : False\n",
      "\u001b[1;38;5;39mCOMET INFO:\u001b[0m     resume          : False\n",
      "\u001b[1;38;5;39mCOMET INFO:\u001b[0m     retina_masks    : False\n",
      "\u001b[1;38;5;39mCOMET INFO:\u001b[0m     save            : True\n",
      "\u001b[1;38;5;39mCOMET INFO:\u001b[0m     save_conf       : False\n",
      "\u001b[1;38;5;39mCOMET INFO:\u001b[0m     save_crop       : False\n",
      "\u001b[1;38;5;39mCOMET INFO:\u001b[0m     save_dir        : training_result_yolo11m-seg/yolo11m-seg_cow\n",
      "\u001b[1;38;5;39mCOMET INFO:\u001b[0m     save_frames     : True\n",
      "\u001b[1;38;5;39mCOMET INFO:\u001b[0m     save_json       : True\n",
      "\u001b[1;38;5;39mCOMET INFO:\u001b[0m     save_period     : 10\n",
      "\u001b[1;38;5;39mCOMET INFO:\u001b[0m     save_txt        : False\n",
      "\u001b[1;38;5;39mCOMET INFO:\u001b[0m     scale           : 0.3\n",
      "\u001b[1;38;5;39mCOMET INFO:\u001b[0m     seed            : 42\n",
      "\u001b[1;38;5;39mCOMET INFO:\u001b[0m     shear           : 0.0\n",
      "\u001b[1;38;5;39mCOMET INFO:\u001b[0m     show            : False\n",
      "\u001b[1;38;5;39mCOMET INFO:\u001b[0m     show_boxes      : True\n",
      "\u001b[1;38;5;39mCOMET INFO:\u001b[0m     show_conf       : True\n",
      "\u001b[1;38;5;39mCOMET INFO:\u001b[0m     show_labels     : True\n",
      "\u001b[1;38;5;39mCOMET INFO:\u001b[0m     simplify        : True\n",
      "\u001b[1;38;5;39mCOMET INFO:\u001b[0m     single_cls      : False\n",
      "\u001b[1;38;5;39mCOMET INFO:\u001b[0m     source          : None\n",
      "\u001b[1;38;5;39mCOMET INFO:\u001b[0m     split           : val\n",
      "\u001b[1;38;5;39mCOMET INFO:\u001b[0m     stream_buffer   : False\n",
      "\u001b[1;38;5;39mCOMET INFO:\u001b[0m     task            : segment\n",
      "\u001b[1;38;5;39mCOMET INFO:\u001b[0m     time            : None\n",
      "\u001b[1;38;5;39mCOMET INFO:\u001b[0m     tracker         : botsort.yaml\n",
      "\u001b[1;38;5;39mCOMET INFO:\u001b[0m     translate       : 0.15\n",
      "\u001b[1;38;5;39mCOMET INFO:\u001b[0m     val             : True\n",
      "\u001b[1;38;5;39mCOMET INFO:\u001b[0m     verbose         : True\n",
      "\u001b[1;38;5;39mCOMET INFO:\u001b[0m     vid_stride      : 1\n",
      "\u001b[1;38;5;39mCOMET INFO:\u001b[0m     visualize       : False\n",
      "\u001b[1;38;5;39mCOMET INFO:\u001b[0m     warmup_bias_lr  : 0.01\n",
      "\u001b[1;38;5;39mCOMET INFO:\u001b[0m     warmup_epochs   : 3\n",
      "\u001b[1;38;5;39mCOMET INFO:\u001b[0m     warmup_momentum : 1e-05\n",
      "\u001b[1;38;5;39mCOMET INFO:\u001b[0m     weight_decay    : 0.0007\n",
      "\u001b[1;38;5;39mCOMET INFO:\u001b[0m     workers         : 8\n",
      "\u001b[1;38;5;39mCOMET INFO:\u001b[0m     workspace       : None\n",
      "\u001b[1;38;5;39mCOMET INFO:\u001b[0m   Uploads:\n",
      "\u001b[1;38;5;39mCOMET INFO:\u001b[0m     conda-environment-definition : 1\n",
      "\u001b[1;38;5;39mCOMET INFO:\u001b[0m     conda-info                   : 1\n",
      "\u001b[1;38;5;39mCOMET INFO:\u001b[0m     conda-specification          : 1\n",
      "\u001b[1;38;5;39mCOMET INFO:\u001b[0m     confusion-matrix             : 1\n",
      "\u001b[1;38;5;39mCOMET INFO:\u001b[0m     environment details          : 1\n",
      "\u001b[1;38;5;39mCOMET INFO:\u001b[0m     filename                     : 1\n",
      "\u001b[1;38;5;39mCOMET INFO:\u001b[0m     git metadata                 : 1\n",
      "\u001b[1;38;5;39mCOMET INFO:\u001b[0m     git-patch (uncompressed)     : 1 (3.75 MB)\n",
      "\u001b[1;38;5;39mCOMET INFO:\u001b[0m     images                       : 219\n",
      "\u001b[1;38;5;39mCOMET INFO:\u001b[0m     installed packages           : 1\n",
      "\u001b[1;38;5;39mCOMET INFO:\u001b[0m     model-element                : 10 (1.17 GB)\n",
      "\u001b[1;38;5;39mCOMET INFO:\u001b[0m     os packages                  : 1\n",
      "\u001b[1;38;5;39mCOMET INFO:\u001b[0m     source_code                  : 2 (25.77 KB)\n",
      "\u001b[1;38;5;39mCOMET INFO:\u001b[0m \n",
      "\u001b[1;38;5;214mCOMET WARNING:\u001b[0m To get all data logged automatically, import comet_ml before the following modules: torch.\n",
      "\u001b[1;38;5;39mCOMET INFO:\u001b[0m Please wait for assets to finish uploading (timeout is 10800 seconds)\n",
      "\u001b[1;38;5;39mCOMET INFO:\u001b[0m Still uploading 7 file(s), remaining 35.35 MB/46.13 MB\n",
      "\u001b[1;38;5;39mCOMET INFO:\u001b[0m Still uploading 1 asset(s), remaining 4.43 MB/43.04 MB, Throughput 2.06 MB/s, ETA ~3s\n"
     ]
    },
    {
     "name": "stdout",
     "output_type": "stream",
     "text": [
      "訓練完成！\n",
      "訓練結果儲存於: training_result_yolo11m-seg/yolo11m-seg_cow\n"
     ]
    }
   ],
   "source": [
    "# 訓練\n",
    "# 詳細參數見 https://docs.ultralytics.com/tasks/segment/#train\n",
    "# https://docs.ultralytics.com/zh/guides/yolo-data-augmentation/#example-configurations\n",
    "# https://docs.ultralytics.com/zh/usage/cfg/#train-settings\n",
    "\n",
    "# 設定訓練參數\n",
    "results = model.train(\n",
    "    data=\"../dataset_seg/yolo_data_integrated/dataset.yaml\",\n",
    "\n",
    "    # 訓練參數\n",
    "    epochs=100,\n",
    "    imgsz=512,\n",
    "    device=[0, 1] if check_device == \"cuda\" else \"cpu\", \n",
    "    batch=32, \n",
    "    workers=8, \n",
    "    patience=25, \n",
    "    amp=True,\n",
    "\n",
    "    # 訓練過程中使用的日誌記錄工具\n",
    "    cache=\"disk\",\n",
    "    verbose=True,\n",
    "    plots=True,\n",
    "    save_period=10,\n",
    "    save=True,  \n",
    "    save_frames=True,\n",
    "    save_json=True,\n",
    "    pretrained=True,\n",
    "    project=project_folder,\n",
    "    name=model_name,\n",
    "    exist_ok=True, # 允許覆蓋現有項目\n",
    "    multi_scale=False, # 多尺度訓練\n",
    "    optimizer=\"AdamW\",  # \"auto\"\n",
    "    seed=42,  # 設定隨機種子以確保可重現性\n",
    "\n",
    "    # 學習率策略調整\n",
    "    dropout=0.15,\n",
    "    lr0=0.005, \n",
    "    lrf=0.0001,  \n",
    "    warmup_epochs=3,  # 預熱階段\n",
    "    warmup_momentum=0.0001, # 預熱階段動量\n",
    "    warmup_bias_lr=0.005, # 預熱階段偏置學習率\n",
    "    cos_lr=True,  # 使用餘弦學習率調度\n",
    "    weight_decay=7e-4, # L2 正則化\n",
    "    \n",
    "    # 資料增強\n",
    "    mosaic=0.8,    \n",
    "    cutmix=0.5,\n",
    "    mixup=0.5,\n",
    "    copy_paste=0.3,\n",
    "    # copy_paste_mode=\"mixup\",  # copy-paste 模式\n",
    "\n",
    "    # 幾何變換調整\n",
    "    translate=0.15,\n",
    "    scale=0.3\n",
    ")\n",
    "\n",
    "print(\"訓練完成！\")\n",
    "print(f\"訓練結果儲存於: {project_folder}/{model_name}\")"
   ]
  }
 ],
 "metadata": {
  "kernelspec": {
   "display_name": "YOLO WSL",
   "language": "python",
   "name": "yolo-seg-env"
  },
  "language_info": {
   "codemirror_mode": {
    "name": "ipython",
    "version": 3
   },
   "file_extension": ".py",
   "mimetype": "text/x-python",
   "name": "python",
   "nbconvert_exporter": "python",
   "pygments_lexer": "ipython3",
   "version": "3.12.11"
  }
 },
 "nbformat": 4,
 "nbformat_minor": 5
}
