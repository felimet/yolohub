{
 "cells": [
  {
   "cell_type": "markdown",
   "id": "750e0b57",
   "metadata": {},
   "source": [
    "## 使用方法 (用於實例分割資料)\n",
    "- 進入資料夾 bash: `cd coco_json2yolo_txt`\n",
    "- 進入 `coco_json2yolo_txt_env` 環境進行轉換\n",
    "    - bash: `conda activate coco_json2yolo_txt_env`\n",
    "\n",
    "\n",
    "- 若要將 COCO JSON 資料集轉換為 YOLO 格式，請 `general_json2yolo.py` 從終端機執行腳本。您需要指定包含 COCO JSON 註解檔案的目錄路徑，以及要儲存產生的 YOLO 標籤檔案的目錄。\n",
    "\n",
    "    - `--json_dir`：包含 COCO JSON 註解檔案的目錄路徑（ex. `coco8.json`）。\n",
    "    - `--save_dir`：轉換後的 YOLO 標籤檔案儲存目錄路徑。 (預設 `datasets/yolo_data/`)\n",
    "\n",
    "此程式碼將處理 JSON 文件，提取邊界框資訊並將其轉換為 YOLO 格式，並將每張`.txt`圖片儲存到指定的儲存目錄中。有關資料集格式的更多詳細信息，請參閱我們的文件。"
   ]
  },
  {
   "cell_type": "code",
   "execution_count": null,
   "id": "12fd6a02",
   "metadata": {},
   "outputs": [
    {
     "name": "stdout",
     "output_type": "stream",
     "text": [
      "Annotations /home/isspmes/yolo/coco_json2yolo_txt/tmp_dataset_seg/coco_type/37.j\n",
      "Annotations /home/isspmes/yolo/coco_json2yolo_txt/tmp_dataset_seg/coco_type/38.j\n",
      "Annotations /home/isspmes/yolo/coco_json2yolo_txt/tmp_dataset_seg/coco_type/39.j\n",
      "Annotations /home/isspmes/yolo/coco_json2yolo_txt/tmp_dataset_seg/coco_type/41.j\n",
      "Annotations /home/isspmes/yolo/coco_json2yolo_txt/tmp_dataset_seg/coco_type/annn\n",
      "Annotations /home/isspmes/yolo/coco_json2yolo_txt/tmp_dataset_seg/coco_type/merg\n"
     ]
    }
   ],
   "source": [
    "coco_json_dir = \"../tmp_dataset/for_segment/coco_type/*.json\"\n",
    "saveTXT_dir = \"\" # \"\" 為預設 \"tmp_dataset_seg/yolo_data/\"\n",
    "\n",
    "!python general_json2yolo.py --json_dir coco_json_dir --save_dir saveTXT_dir"
   ]
  }
 ],
 "metadata": {
  "kernelspec": {
   "display_name": "coco2yoloTXT",
   "language": "python",
   "name": "coco_json2yolo_txt_env"
  },
  "language_info": {
   "codemirror_mode": {
    "name": "ipython",
    "version": 3
   },
   "file_extension": ".py",
   "mimetype": "text/x-python",
   "name": "python",
   "nbconvert_exporter": "python",
   "pygments_lexer": "ipython3",
   "version": "3.12.11"
  }
 },
 "nbformat": 4,
 "nbformat_minor": 5
}
