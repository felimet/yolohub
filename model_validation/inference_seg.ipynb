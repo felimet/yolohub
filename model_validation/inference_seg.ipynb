{
 "cells": [
  {
   "cell_type": "code",
   "execution_count": null,
   "id": "04d9a8ff",
   "metadata": {},
   "outputs": [
    {
     "name": "stdout",
     "output_type": "stream",
     "text": [
      "Ultralytics 8.3.154 🚀 Python-3.12.11 torch-2.6.0+cu124 CUDA:0 (NVIDIA TITAN V, 12288MiB)\n",
      "YOLO11m-seg summary (fused): 138 layers, 22,336,083 parameters, 0 gradients, 123.0 GFLOPs\n",
      "\u001b[34m\u001b[1mval: \u001b[0mFast image access ✅ (ping: 0.0±0.0 ms, read: 166.9±52.0 MB/s, size: 139.4 KB)\n",
      "\u001b[34m\u001b[1mval: \u001b[0mScanning /home/isspmes/YOLOHub/dataset_seg/yolo_data_integrated/labels/val.\u001b[0m\n",
      "                 Class     Images  Instances      Box(P          R      mAP50  m\n",
      "                   all       1101       1858      0.993      0.996      0.995       0.99      0.993      0.996      0.995      0.839\n",
      "Speed: 0.1ms preprocess, 3.7ms inference, 0.0ms loss, 2.2ms postprocess per image\n",
      "Saving runs/segment/val/predictions.json...\n",
      "Results saved to \u001b[1mruns/segment/val\u001b[0m\n",
      "💡 Learn more at https://docs.ultralytics.com/modes/val\n"
     ]
    }
   ],
   "source": [
    "# 使用訓練完成的模型進行測試\n",
    "# https://docs.ultralytics.com/zh/modes/val/#arguments-for-yolo-model-validation\n",
    "!yolo segment val model=\"../use_model/yolo11m-seg_cow/weights/best.pt\" data=\"../dataset_seg/yolo_data_integrated/dataset.yaml\" save_html=True\n"
   ]
  },
  {
   "cell_type": "code",
   "execution_count": null,
   "id": "e6fa595d",
   "metadata": {},
   "outputs": [],
   "source": []
  }
 ],
 "metadata": {
  "kernelspec": {
   "display_name": "YOLO WSL",
   "language": "python",
   "name": "yolo-seg-env"
  },
  "language_info": {
   "codemirror_mode": {
    "name": "ipython",
    "version": 3
   },
   "file_extension": ".py",
   "mimetype": "text/x-python",
   "name": "python",
   "nbconvert_exporter": "python",
   "pygments_lexer": "ipython3",
   "version": "3.12.11"
  }
 },
 "nbformat": 4,
 "nbformat_minor": 5
}
