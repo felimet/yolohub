{
 "cells": [
  {
   "cell_type": "code",
   "execution_count": null,
   "id": "e049f41b",
   "metadata": {},
   "outputs": [
    {
     "ename": "",
     "evalue": "",
     "output_type": "error",
     "traceback": [
      "\u001b[1;31m無法啟動 Kernel。 \n",
      "\u001b[1;31mImportError: /home/isspmes/anaconda3/envs/yolo-seg-env/lib/python3.12/lib-dynload/_sqlite3.cpython-312-x86_64-linux-gnu.so: undefined symbol: sqlite3_deserialize. \n",
      "\u001b[1;31m如需詳細資料，請檢視 Jupyter <a href='command:jupyter.viewOutput'>記錄</a>。"
     ]
    }
   ],
   "source": [
    "from ultralytics import YOLO\n",
    "import cv2          # 匯入 OpenCV\n",
    "import numpy as np  # 匯入 NumPy\n",
    "import os           # 匯入 os 模組"
   ]
  },
  {
   "cell_type": "code",
   "execution_count": null,
   "id": "b4533cba",
   "metadata": {},
   "outputs": [
    {
     "ename": "",
     "evalue": "",
     "output_type": "error",
     "traceback": [
      "\u001b[1;31m無法啟動 Kernel。 \n",
      "\u001b[1;31mImportError: /home/isspmes/anaconda3/envs/yolo-seg-env/lib/python3.12/lib-dynload/_sqlite3.cpython-312-x86_64-linux-gnu.so: undefined symbol: sqlite3_deserialize. \n",
      "\u001b[1;31m如需詳細資料，請檢視 Jupyter <a href='command:jupyter.viewOutput'>記錄</a>。"
     ]
    }
   ],
   "source": [
    "from ultralytics import YOLO\n",
    "import cv2          # 匯入 OpenCV\n",
    "import numpy as np  # 匯入 NumPy\n",
    "import os           # 匯入 os 模組\n",
    "\n",
    "# 載入您自訂的分割模型\n",
    "model = YOLO('../use_model/yolo11m-seg_cow/weights/best.pt')\n",
    "\n",
    "# 影片檔案路徑\n",
    "video_path = '/mnt/z/cattle_temp_data/智農計畫-子8-跛行/dataset-for-unknow/video/LV1/403/lameness_001_clip_00-14_to_00-19.mp4'\n",
    "\n",
    "# --- 1. 建立儲存遮罩的輸出資料夾 ---\n",
    "output_dir = \"result_masks\"\n",
    "os.makedirs(output_dir, exist_ok=True)\n",
    "\n",
    "# --- 2. 執行推論 ---\n",
    "# 對於影片，建議使用 stream=True 模式以節省記憶體，它會回傳一個結果生成器\n",
    "results_generator = model(video_path, \n",
    "                          imgsz=640, \n",
    "                          iou=0.9, \n",
    "                          conf=0.5,\n",
    "                          device='cuda:0',  # 使用 CUDA 裝置\n",
    "                          stream=True\n",
    "                          ) \n",
    "\n",
    "# --- 3. 處理結果並儲存每個獨立的遮罩 ---\n",
    "print(f\"開始處理影片: {video_path}\")\n",
    "print(f\"遮罩將儲存於 '{output_dir}/' 資料夾中...\")\n",
    "\n",
    "# 使用 enumerate 獲取畫格的索引 (frame_idx)\n",
    "for frame_idx, result in enumerate(results_generator):\n",
    "    # 檢查該畫格是否有偵測到遮罩\n",
    "    if result.masks is not None:\n",
    "        # result.masks.data 是一個 (N, H, W) 的張量，N 是該畫格偵測到的物件數量\n",
    "        # 迭代處理該畫格中的每一個物件遮罩\n",
    "        for obj_idx, mask_tensor in enumerate(result.masks.data):\n",
    "            \n",
    "            # 將遮罩張量轉換為 NumPy 陣列，資料格式為 uint8\n",
    "            # .cpu() 是為了確保張量在 CPU 上，以便轉換為 NumPy 陣列\n",
    "            binary_mask = mask_tensor.cpu().numpy().astype(np.uint8)\n",
    "            \n",
    "            # 將遮罩的數值從 [0, 1] 轉換為 [0, 255]，以符合黑白影像格式\n",
    "            binary_mask *= 255\n",
    "            \n",
    "            # 建立一個獨一無二的檔案名稱，格式為：frame_{畫格編號}_object_{物件編號}.png\n",
    "            filename = os.path.join(output_dir, f\"frame_{frame_idx:04d}_object_{obj_idx:02d}.png\")\n",
    "            \n",
    "            # 使用 OpenCV 將 NumPy 陣列儲存為 PNG 檔案\n",
    "            cv2.imwrite(filename, binary_mask)\n",
    "\n",
    "print(\"處理完成。\")"
   ]
  },
  {
   "cell_type": "code",
   "execution_count": null,
   "id": "cffccef2",
   "metadata": {},
   "outputs": [
    {
     "ename": "",
     "evalue": "",
     "output_type": "error",
     "traceback": [
      "\u001b[1;31m無法啟動 Kernel。 \n",
      "\u001b[1;31mImportError: /home/isspmes/anaconda3/envs/yolo-seg-env/lib/python3.12/lib-dynload/_sqlite3.cpython-312-x86_64-linux-gnu.so: undefined symbol: sqlite3_deserialize. \n",
      "\u001b[1;31m如需詳細資料，請檢視 Jupyter <a href='command:jupyter.viewOutput'>記錄</a>。"
     ]
    }
   ],
   "source": [
    "import cv2\n",
    "import numpy as np\n",
    "from ultralytics import YOLO\n",
    "\n",
    "# 載入分割模型\n",
    "model = YOLO('../use_model/yolo11m-seg_cow/weights/best.pt')\n",
    "\n",
    "# 開啟影片檔案\n",
    "# 請將 'your_video.mp4' 替換成您的影片路徑\n",
    "video_path = '/mnt/z/cattle_temp_data/智農計畫-子8-跛行/dataset-for-unknow/video/LV1/403/lameness_001_clip_00-14_to_00-19.mp4'\n",
    "cap = cv2.VideoCapture(video_path)\n",
    "\n",
    "# 確認影片是否成功開啟\n",
    "if not cap.isOpened():\n",
    "    print(\"錯誤: 無法開啟影片檔案。\")\n",
    "    exit()\n",
    "\n",
    "# 迴圈處理影片的每一個畫格\n",
    "while cap.isOpened():\n",
    "    # 讀取一個畫格\n",
    "    success, frame = cap.read()\n",
    "\n",
    "    if success:\n",
    "        # 使用 YOLOv8 進行推論，設定 stream=True 以獲得結果生成器\n",
    "        results = model(frame, stream=True)\n",
    "\n",
    "        # 處理每個畫格的結果\n",
    "        for result in results:\n",
    "            # 檢查是否偵測到任何遮罩\n",
    "            if result.masks is not None:\n",
    "                # result.masks.data 是一個 (N, H, W) 的張量\n",
    "                # N 是偵測到的物件數量\n",
    "                # 我們可以迭代取得每一個物件的獨立遮罩\n",
    "                for i, mask_tensor in enumerate(result.masks.data):\n",
    "                    # 將遮罩張量轉換為 NumPy 陣列\n",
    "                    # 遮罩的數值為 0 (背景) 或 1 (物件)，我們將其乘以 255 轉換為可視化的灰階影像\n",
    "                    binary_mask = mask_tensor.cpu().numpy().astype(np.uint8) * 255\n",
    "\n",
    "                    # binary_mask 就是第 i 個物件的獨立二元遮罩\n",
    "                    # 您可以在這裡對這個遮罩進行後續處理\n",
    "                    # 例如：儲存成檔案、計算面積、或是將其應用於原影像上\n",
    "\n",
    "                    # 顯示每個獨立的遮罩 (可選)\n",
    "                    mask_display_name = f'Object {i+1} Mask'\n",
    "                    cv2.imshow(mask_display_name, binary_mask)\n",
    "\n",
    "                    # 您也可以提取物件的邊界框和類別\n",
    "                    box = result.boxes[i]\n",
    "                    class_id = int(box.cls[0])\n",
    "                    class_name = model.names[class_id]\n",
    "                    print(f\"物件 {i+1}: 類別 = {class_name}\")\n",
    "\n",
    "\n",
    "        # 顯示帶有標註的原影像 (可選)\n",
    "        annotated_frame = results[0].plot() # results[0] 是為了觸發生成器\n",
    "        cv2.imshow(\"YOLO11 Inference\", annotated_frame)\n",
    "\n",
    "        # 如果按下 'q' 鍵則中斷迴圈\n",
    "        if cv2.waitKey(1) & 0xFF == ord(\"q\"):\n",
    "            break\n",
    "    else:\n",
    "        # 影片結束，中斷迴圈\n",
    "        break\n",
    "\n",
    "# 釋放資源並關閉所有視窗\n",
    "cap.release()\n",
    "cv2.destroyAllWindows()"
   ]
  }
 ],
 "metadata": {
  "kernelspec": {
   "display_name": "yolo-seg-env",
   "language": "python",
   "name": "python3"
  },
  "language_info": {
   "name": "python",
   "version": "3.12.11"
  }
 },
 "nbformat": 4,
 "nbformat_minor": 5
}
