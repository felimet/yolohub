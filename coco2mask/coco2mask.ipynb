{
 "cells": [
  {
   "cell_type": "markdown",
   "id": "d8c24cfd",
   "metadata": {},
   "source": [
    "## 範例"
   ]
  },
  {
   "cell_type": "code",
   "execution_count": null,
   "id": "8e062ab8",
   "metadata": {},
   "outputs": [],
   "source": [
    "# 基本使用範例\n",
    "# generator = COCOToMaskGenerator(\n",
    "#     coco_json_path='annotations/instances_train2017.json',\n",
    "#     images_dir='images/train2017'\n",
    "# )\n",
    "    \n",
    "# 顯示統計資訊\n",
    "# generator.print_statistics()\n",
    "    \n",
    "# 生成所有遮罩\n",
    "# generator.generate_all_masks(\n",
    "#     output_dir='output/masks',\n",
    "#     merge_instances=True,\n",
    "#     visualize=True\n",
    "# )\n",
    "    \n",
    "# 只生成特定類別的遮罩（例如：person類別，通常ID為1）\n",
    "# generator.generate_all_masks(\n",
    "#     output_dir='output/person_masks',\n",
    "#     category_id=1,\n",
    "#     merge_instances=True\n",
    "# )\n",
    "    \n",
    "# 生成單張影像的遮罩\n",
    "# mask, filename = generator.generate_single_mask(image_id=1)\n",
    "# Image.fromarray(mask, mode='L').save(f'single_mask_{filename}.png')"
   ]
  },
  {
   "cell_type": "markdown",
   "id": "5c0d0d4a",
   "metadata": {},
   "source": [
    "## 執行"
   ]
  },
  {
   "cell_type": "code",
   "execution_count": null,
   "id": "e83a691b",
   "metadata": {},
   "outputs": [
    {
     "name": "stdout",
     "output_type": "stream",
     "text": [
      "=== COCO資料集統計資訊 ===\n",
      "影像總數: 46\n",
      "標註總數: 570\n",
      "類別總數: 1\n",
      "\n",
      "類別分佈:\n",
      "  cow: 570\n",
      "\n",
      "分割格式分佈:\n",
      "  多邊形: 570\n",
      "  RLE: 0\n",
      "開始處理 46 張影像...\n",
      "已處理: 10/46\n",
      "已處理: 20/46\n",
      "已處理: 30/46\n",
      "已處理: 40/46\n",
      "完成! 總共處理了 46 張影像\n",
      "遮罩檔案儲存在: output/39\n",
      "重新命名: ddf07af5-000952_mask.png → ddf07af5-000952.png\n",
      "重新命名: 711fb9f0-000976_mask.png → 711fb9f0-000976.png\n",
      "重新命名: a33c1603-000970_mask.png → a33c1603-000970.png\n",
      "重新命名: bf414ff3-000988_mask.png → bf414ff3-000988.png\n",
      "重新命名: f1be2d72-000980_mask.png → f1be2d72-000980.png\n",
      "重新命名: d02e5e73-000961_mask.png → d02e5e73-000961.png\n",
      "重新命名: 662d19d1-000949_mask.png → 662d19d1-000949.png\n",
      "重新命名: 690a4692-000963_mask.png → 690a4692-000963.png\n",
      "重新命名: 2f57a6b9-000991_mask.png → 2f57a6b9-000991.png\n",
      "重新命名: e20646e5-000986_mask.png → e20646e5-000986.png\n",
      "重新命名: d1689aff-000950_mask.png → d1689aff-000950.png\n",
      "重新命名: b3cc003e-000971_mask.png → b3cc003e-000971.png\n",
      "重新命名: 46604772-000989_mask.png → 46604772-000989.png\n",
      "重新命名: b2dbdbaa-000969_mask.png → b2dbdbaa-000969.png\n",
      "重新命名: eda2f1fb-000983_mask.png → eda2f1fb-000983.png\n",
      "重新命名: 9c0c8c8f-000956_mask.png → 9c0c8c8f-000956.png\n",
      "重新命名: 34238ba1-000990_mask.png → 34238ba1-000990.png\n",
      "重新命名: ede645be-000977_mask.png → ede645be-000977.png\n",
      "重新命名: 8dff77c6-000953_mask.png → 8dff77c6-000953.png\n",
      "重新命名: dfcf7e51-000959_mask.png → dfcf7e51-000959.png\n",
      "重新命名: dd390851-000947_mask.png → dd390851-000947.png\n",
      "重新命名: 2e038dfe-000981_mask.png → 2e038dfe-000981.png\n",
      "重新命名: f36eea29-000978_mask.png → f36eea29-000978.png\n",
      "重新命名: d75dc16d-000954_mask.png → d75dc16d-000954.png\n",
      "重新命名: e08a4926-000975_mask.png → e08a4926-000975.png\n",
      "重新命名: 842a5e04-000979_mask.png → 842a5e04-000979.png\n",
      "重新命名: d3c1a205-000946_mask.png → d3c1a205-000946.png\n",
      "重新命名: 74b085f3-000962_mask.png → 74b085f3-000962.png\n",
      "重新命名: b7512f6a-000955_mask.png → b7512f6a-000955.png\n",
      "重新命名: 27957685-000974_mask.png → 27957685-000974.png\n",
      "重新命名: a0f1181c-000987_mask.png → a0f1181c-000987.png\n",
      "重新命名: 22099707-000967_mask.png → 22099707-000967.png\n",
      "重新命名: 6e23ae16-000960_mask.png → 6e23ae16-000960.png\n",
      "重新命名: 0a2abc65-000957_mask.png → 0a2abc65-000957.png\n",
      "重新命名: e9abdd25-000972_mask.png → e9abdd25-000972.png\n",
      "重新命名: da3cd62a-000958_mask.png → da3cd62a-000958.png\n",
      "重新命名: 0b39703a-000948_mask.png → 0b39703a-000948.png\n",
      "重新命名: 0c2f6461-000985_mask.png → 0c2f6461-000985.png\n",
      "重新命名: f63b1869-000992_mask.png → f63b1869-000992.png\n",
      "重新命名: 3a6178ff-000951_mask.png → 3a6178ff-000951.png\n",
      "重新命名: e1b0e312-000984_mask.png → e1b0e312-000984.png\n",
      "重新命名: 73684e82-000973_mask.png → 73684e82-000973.png\n",
      "重新命名: 23d09649-000966_mask.png → 23d09649-000966.png\n",
      "重新命名: 34e16c15-000965_mask.png → 34e16c15-000965.png\n",
      "重新命名: 096141a0-000982_mask.png → 096141a0-000982.png\n",
      "重新命名: 22b57a9c-000968_mask.png → 22b57a9c-000968.png\n"
     ]
    }
   ],
   "source": [
    "from coco2mask_generator import COCOToMaskGenerator\n",
    "from remove_mask_suffix import remove_mask_suffix\n",
    "\n",
    "# 建立生成器實例\n",
    "generator = COCOToMaskGenerator(\n",
    "    coco_json_path='../tmp_dataset/for_segment/coco_type/39.json',\n",
    "    images_dir='../tmp_dataset/for_segment/yolo_data/images/39/'  # 可選：用於視覺化\n",
    ")\n",
    "\n",
    "# 查看資料集統計\n",
    "generator.print_statistics()\n",
    "\n",
    "# 生成遮罩與視覺化\n",
    "generator.generate_all_masks(\n",
    "    output_dir='output/39',\n",
    "    merge_instances=True,  # 合併同類別實例\n",
    "    visualize=False         # 產生視覺化影像 False\n",
    ")\n",
    "\n",
    "# 移除輸出目錄中的遮罩後綴\n",
    "remove_mask_suffix('output/39/')"
   ]
  }
 ],
 "metadata": {
  "kernelspec": {
   "display_name": "coco2yoloTXT",
   "language": "python",
   "name": "coco_json2yolo_txt_env"
  },
  "language_info": {
   "codemirror_mode": {
    "name": "ipython",
    "version": 3
   },
   "file_extension": ".py",
   "mimetype": "text/x-python",
   "name": "python",
   "nbconvert_exporter": "python",
   "pygments_lexer": "ipython3",
   "version": "3.12.11"
  }
 },
 "nbformat": 4,
 "nbformat_minor": 5
}
