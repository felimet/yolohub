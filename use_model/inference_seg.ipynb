{
 "cells": [
  {
   "cell_type": "code",
   "execution_count": 3,
   "id": "8966fac7",
   "metadata": {},
   "outputs": [
    {
     "name": "stdout",
     "output_type": "stream",
     "text": [
      "\n",
      "0: 224x512 1 cow, 65.2ms\n",
      "Speed: 147.4ms preprocess, 65.2ms inference, 1271.7ms postprocess per image at shape (1, 3, 224, 512)\n"
     ]
    }
   ],
   "source": [
    "from ultralytics import YOLO\n",
    "\n",
    "# Load a model\n",
    "model = YOLO(\"yolo11m-seg_cow/weights/best.pt\")  \n",
    "\n",
    "# Run batched inference on a list of images\n",
    "results = model([\"../test.jpg\"])  # return a list of Results objects\n",
    "\n",
    "# Process results list\n",
    "for result in results:\n",
    "    orig_img = result.orig_img  # Original image as a numpy array\n",
    "    orig_shape = result.orig_shape  # Original shape of the image\n",
    "    boxes = result.boxes  # Boxes object for bounding box outputs\n",
    "    masks = result.masks  # Masks object for segmentation masks outputs\n",
    "    # keypoints = result.keypoints  # Keypoints object for pose outputs\n",
    "    # probs = result.probs  # Probs object for classification outputs\n",
    "    # obb = result.obb  # Oriented boxes object for OBB outputs\n",
    "    speed = result.speed  # Inference speed\n",
    "    names = result.names  # Class names\n",
    "    result.show()  # display to screen\n",
    "    result.save(filename=\"result/result.jpg\")  # save to disk\n"
   ]
  }
 ],
 "metadata": {
  "kernelspec": {
   "display_name": "yolo-seg-env",
   "language": "python",
   "name": "python3"
  },
  "language_info": {
   "codemirror_mode": {
    "name": "ipython",
    "version": 3
   },
   "file_extension": ".py",
   "mimetype": "text/x-python",
   "name": "python",
   "nbconvert_exporter": "python",
   "pygments_lexer": "ipython3",
   "version": "3.12.11"
  }
 },
 "nbformat": 4,
 "nbformat_minor": 5
}
